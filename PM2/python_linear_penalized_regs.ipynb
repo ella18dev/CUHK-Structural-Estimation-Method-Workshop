{
  "cells": [
    {
      "cell_type": "markdown",
      "metadata": {
        "_execution_state": "idle",
        "_uuid": "051d70d956493feee0c6d64651c6a088724dca2a",
        "id": "VshpNbDMNXxq",
        "papermill": {
          "duration": 0.010774,
          "end_time": "2021-02-15T11:01:41.782833",
          "exception": false,
          "start_time": "2021-02-15T11:01:41.772059",
          "status": "completed"
        },
        "tags": []
      },
      "source": [
        "# Penalized Linear Regressions: A Simulation Experiment"
      ]
    },
    {
      "cell_type": "code",
      "execution_count": null,
      "metadata": {
        "id": "UTUoszHwNXxr"
      },
      "outputs": [],
      "source": [
        "import matplotlib.pyplot as plt\n",
        "import random\n",
        "import numpy as np\n",
        "import warnings\n",
        "warnings.simplefilter('ignore')\n",
        "from sklearn.linear_model import LassoCV\n",
        "from sklearn.linear_model import RidgeCV, ElasticNetCV, LinearRegression, Lasso, Ridge\n",
        "from sklearn.metrics import r2_score\n",
        "from sklearn.model_selection import GridSearchCV\n",
        "import pandas as pd\n",
        "from sklearn.base import BaseEstimator\n",
        "random.seed(1)"
      ]
    },
    {
      "cell_type": "markdown",
      "metadata": {
        "id": "boNconu7NXxs"
      },
      "source": [
        "## Data Generating Process"
      ]
    },
    {
      "cell_type": "markdown",
      "metadata": {
        "id": "2-DeZXDfNXxs"
      },
      "source": [
        "We define a simple data generating process that allows for sparse, dense, and sparse+dense coefficients"
      ]
    },
    {
      "cell_type": "code",
      "execution_count": null,
      "metadata": {
        "id": "C16cAmFsAg_p"
      },
      "outputs": [],
      "source": [
        "def gen_data(n, p, *, regime=\"sparse\"):\n",
        "    # constants chosen to get R^2 of approximately .80\n",
        "    if regime == \"sparse\":\n",
        "        beta = ((1 / np.arange(1, p + 1)) ** 2) * 7\n",
        "    elif regime == \"dense\":\n",
        "        beta = ((np.random.normal(0, 1, p)) * 0.35)\n",
        "    elif regime == \"sparsedense\":\n",
        "        # taking out either results in an R^2 of approximately .69\n",
        "        beta = (((1 / np.arange(1, p + 1)) ** 2) * 5) + ((np.random.normal(0, 1, p)) * 0.25)\n",
        "\n",
        "    def true_fn(x):\n",
        "        return x @ beta #矩阵乘法，X的维度是 (n,p) , beta的维度是 (p,1)\n",
        "\n",
        "    X = np.random.uniform(-.5, .5, size=(n, p))\n",
        "    gX = true_fn(X)\n",
        "    y = gX + np.random.normal(0, 1, size=n)\n",
        "    Xtest = np.random.uniform(-.5, .5, size=(n, p))\n",
        "    gXtest = true_fn(Xtest)\n",
        "    ytest = gXtest + np.random.normal(0, 1, size=n)\n",
        "    Xpop = np.random.uniform(-.5, .5, size=(100000, p))  # almost population limit\n",
        "    gXpop = true_fn(Xpop)\n",
        "    ypop = gXpop + np.random.normal(0, 1, size=100000)  # almost population limit\n",
        "    return X, y, gX, Xtest, ytest, gXtest, Xpop, ypop, gXpop, beta"
      ]
    },
    {
      "cell_type": "code",
      "source": [],
      "metadata": {
        "id": "wJONp0OO3-_A"
      },
      "execution_count": null,
      "outputs": []
    },
    {
      "cell_type": "markdown",
      "metadata": {
        "id": "kh_obVQKNXxt",
        "papermill": {
          "duration": 0.010616,
          "end_time": "2021-02-15T11:01:41.804126",
          "exception": false,
          "start_time": "2021-02-15T11:01:41.793510",
          "status": "completed"
        },
        "tags": []
      },
      "source": [
        "## Data Generating Process: Approximately Sparse"
      ]
    },
    {
      "cell_type": "code",
      "execution_count": null,
      "metadata": {
        "id": "cIV-ZeCGNXxt"
      },
      "outputs": [],
      "source": [
        "n = 100\n",
        "p = 400\n",
        "X, y, gX, Xtest, ytest, gXtest, Xpop, ypop, gXpop, betas = gen_data(n, p, regime=\"sparse\")"
      ]
    },
    {
      "cell_type": "code",
      "execution_count": null,
      "metadata": {
        "id": "wOFX2dObNXxt",
        "outputId": "90f28a0d-5953-4c65-90f1-0a75b494fdbe",
        "colab": {
          "base_uri": "https://localhost:8080/",
          "height": 478
        }
      },
      "outputs": [
        {
          "output_type": "display_data",
          "data": {
            "text/plain": [
              "<Figure size 640x480 with 1 Axes>"
            ],
            "image/png": "[encoded data removed]"
          },
          "metadata": {}
        }
      ],
      "source": [
        "plt.figure()\n",
        "plt.title(r\"$Y$ vs. $g(X)$\")\n",
        "plt.scatter(gX, y)  # gX是 BLP能够得到的结果，非随机部分\n",
        "plt.xlabel(r\"$g(X)$\")\n",
        "plt.ylabel(r\"$Y$\")\n",
        "plt.show() #基本是45度线"
      ]
    },
    {
      "cell_type": "code",
      "execution_count": null,
      "metadata": {
        "id": "YdWNt-ZrNXxu",
        "colab": {
          "base_uri": "https://localhost:8080/"
        },
        "outputId": "6d9d5007-f7f6-42ff-9400-6c007b111218"
      },
      "outputs": [
        {
          "output_type": "stream",
          "name": "stdout",
          "text": [
            "theoretical R^2:, 0.8157324986698076\n",
            "theoretical R^2:, 0.8160773271906911\n"
          ]
        }
      ],
      "source": [
        "print(f\"theoretical R^2:, {1 - np.var(ypop - gXpop) / np.var(ypop)}\") # R2计算\n",
        "print(f\"theoretical R^2:, {np.var(gXpop) / np.var(ypop)}\")"
      ]
    },
    {
      "cell_type": "code",
      "execution_count": null,
      "metadata": {
        "id": "lNBmiZkpJwSe",
        "colab": {
          "base_uri": "https://localhost:8080/",
          "height": 478
        },
        "outputId": "bf4e7e50-80a7-49d2-c7f6-2fe1fb09aee9"
      },
      "outputs": [
        {
          "output_type": "display_data",
          "data": {
            "text/plain": [
              "<Figure size 640x480 with 1 Axes>"
            ],
            "image/png": "[encoded data removed]"
          },
          "metadata": {}
        }
      ],
      "source": [
        "plt.figure()\n",
        "plt.scatter(range(len(betas)), abs(betas), s=5, color='b') #真实beta\n",
        "plt.xlabel(r'$\\beta$')\n",
        "plt.ylabel('Magnitude (log scale)')\n",
        "plt.title(r'$\\beta$ Magnitude')\n",
        "plt.yscale('log')\n",
        "plt.show()"
      ]
    },
    {
      "cell_type": "markdown",
      "metadata": {
        "id": "TEyFNuIoNXxv"
      },
      "source": [
        "## Lasso, Ridge, ElasticNet"
      ]
    },
    {
      "cell_type": "markdown",
      "metadata": {
        "id": "BuMLbuCaNXxv"
      },
      "source": [
        "We use sklearn's penalized estimators, which choose the penalty parameter via cross-validation (by default 5-fold cross-validation). These methods search over an adaptively chosen grid of hyperparameters. `ElasticNet` allows for a convex combination of `l1` and `l2` penalty and the ratio with `l1_ratio` corresponding to the proportion of the `l1` penalty."
      ]
    },
    {
      "cell_type": "code",
      "execution_count": 7,
      "metadata": {
        "id": "5t7kITTvNXxv"
      },
      "outputs": [],
      "source": [
        "# Regressions\n",
        "lcv = LassoCV().fit(X, y) #X是训练数据\n",
        "ridge = RidgeCV().fit(X, y)\n",
        "enet = ElasticNetCV(l1_ratio=0.5).fit(X, y)"
      ]
    },
    {
      "cell_type": "code",
      "source": [
        "lcv"
      ],
      "metadata": {
        "colab": {
          "base_uri": "https://localhost:8080/",
          "height": 80
        },
        "id": "-4i9ylsD8ddS",
        "outputId": "934b80b3-1758-4492-8b14-f46107a47939"
      },
      "execution_count": 10,
      "outputs": [
        {
          "output_type": "execute_result",
          "data": {
            "text/plain": [
              "LassoCV()"
            ],
            "text/html": [
              "<style>#sk-container-id-1 {\n",
              "  /* Definition of color scheme common for light and dark mode */\n",
              "  --sklearn-color-text: #000;\n",
              "  --sklearn-color-text-muted: #666;\n",
              "  --sklearn-color-line: gray;\n",
              "  /* Definition of color scheme for unfitted estimators */\n",
              "  --sklearn-color-unfitted-level-0: #fff5e6;\n",
              "  --sklearn-color-unfitted-level-1: #f6e4d2;\n",
              "  --sklearn-color-unfitted-level-2: #ffe0b3;\n",
              "  --sklearn-color-unfitted-level-3: chocolate;\n",
              "  /* Definition of color scheme for fitted estimators */\n",
              "  --sklearn-color-fitted-level-0: #f0f8ff;\n",
              "  --sklearn-color-fitted-level-1: #d4ebff;\n",
              "  --sklearn-color-fitted-level-2: #b3dbfd;\n",
              "  --sklearn-color-fitted-level-3: cornflowerblue;\n",
              "\n",
              "  /* Specific color for light theme */\n",
              "  --sklearn-color-text-on-default-background: var(--sg-text-color, var(--theme-code-foreground, var(--jp-content-font-color1, black)));\n",
              "  --sklearn-color-background: var(--sg-background-color, var(--theme-background, var(--jp-layout-color0, white)));\n",
              "  --sklearn-color-border-box: var(--sg-text-color, var(--theme-code-foreground, var(--jp-content-font-color1, black)));\n",
              "  --sklearn-color-icon: #696969;\n",
              "\n",
              "  @media (prefers-color-scheme: dark) {\n",
              "    /* Redefinition of color scheme for dark theme */\n",
              "    --sklearn-color-text-on-default-background: var(--sg-text-color, var(--theme-code-foreground, var(--jp-content-font-color1, white)));\n",
              "    --sklearn-color-background: var(--sg-background-color, var(--theme-background, var(--jp-layout-color0, #111)));\n",
              "    --sklearn-color-border-box: var(--sg-text-color, var(--theme-code-foreground, var(--jp-content-font-color1, white)));\n",
              "    --sklearn-color-icon: #878787;\n",
              "  }\n",
              "}\n",
              "\n",
              "#sk-container-id-1 {\n",
              "  color: var(--sklearn-color-text);\n",
              "}\n",
              "\n",
              "#sk-container-id-1 pre {\n",
              "  padding: 0;\n",
              "}\n",
              "\n",
              "#sk-container-id-1 input.sk-hidden--visually {\n",
              "  border: 0;\n",
              "  clip: rect(1px 1px 1px 1px);\n",
              "  clip: rect(1px, 1px, 1px, 1px);\n",
              "  height: 1px;\n",
              "  margin: -1px;\n",
              "  overflow: hidden;\n",
              "  padding: 0;\n",
              "  position: absolute;\n",
              "  width: 1px;\n",
              "}\n",
              "\n",
              "#sk-container-id-1 div.sk-dashed-wrapped {\n",
              "  border: 1px dashed var(--sklearn-color-line);\n",
              "  margin: 0 0.4em 0.5em 0.4em;\n",
              "  box-sizing: border-box;\n",
              "  padding-bottom: 0.4em;\n",
              "  background-color: var(--sklearn-color-background);\n",
              "}\n",
              "\n",
              "#sk-container-id-1 div.sk-container {\n",
              "  /* jupyter's `normalize.less` sets `[hidden] { display: none; }`\n",
              "     but bootstrap.min.css set `[hidden] { display: none !important; }`\n",
              "     so we also need the `!important` here to be able to override the\n",
              "     default hidden behavior on the sphinx rendered scikit-learn.org.\n",
              "     See: https://github.com/scikit-learn/scikit-learn/issues/21755 */\n",
              "  display: inline-block !important;\n",
              "  position: relative;\n",
              "}\n",
              "\n",
              "#sk-container-id-1 div.sk-text-repr-fallback {\n",
              "  display: none;\n",
              "}\n",
              "\n",
              "div.sk-parallel-item,\n",
              "div.sk-serial,\n",
              "div.sk-item {\n",
              "  /* draw centered vertical line to link estimators */\n",
              "  background-image: linear-gradient(var(--sklearn-color-text-on-default-background), var(--sklearn-color-text-on-default-background));\n",
              "  background-size: 2px 100%;\n",
              "  background-repeat: no-repeat;\n",
              "  background-position: center center;\n",
              "}\n",
              "\n",
              "/* Parallel-specific style estimator block */\n",
              "\n",
              "#sk-container-id-1 div.sk-parallel-item::after {\n",
              "  content: \"\";\n",
              "  width: 100%;\n",
              "  border-bottom: 2px solid var(--sklearn-color-text-on-default-background);\n",
              "  flex-grow: 1;\n",
              "}\n",
              "\n",
              "#sk-container-id-1 div.sk-parallel {\n",
              "  display: flex;\n",
              "  align-items: stretch;\n",
              "  justify-content: center;\n",
              "  background-color: var(--sklearn-color-background);\n",
              "  position: relative;\n",
              "}\n",
              "\n",
              "#sk-container-id-1 div.sk-parallel-item {\n",
              "  display: flex;\n",
              "  flex-direction: column;\n",
              "}\n",
              "\n",
              "#sk-container-id-1 div.sk-parallel-item:first-child::after {\n",
              "  align-self: flex-end;\n",
              "  width: 50%;\n",
              "}\n",
              "\n",
              "#sk-container-id-1 div.sk-parallel-item:last-child::after {\n",
              "  align-self: flex-start;\n",
              "  width: 50%;\n",
              "}\n",
              "\n",
              "#sk-container-id-1 div.sk-parallel-item:only-child::after {\n",
              "  width: 0;\n",
              "}\n",
              "\n",
              "/* Serial-specific style estimator block */\n",
              "\n",
              "#sk-container-id-1 div.sk-serial {\n",
              "  display: flex;\n",
              "  flex-direction: column;\n",
              "  align-items: center;\n",
              "  background-color: var(--sklearn-color-background);\n",
              "  padding-right: 1em;\n",
              "  padding-left: 1em;\n",
              "}\n",
              "\n",
              "\n",
              "/* Toggleable style: style used for estimator/Pipeline/ColumnTransformer box that is\n",
              "clickable and can be expanded/collapsed.\n",
              "- Pipeline and ColumnTransformer use this feature and define the default style\n",
              "- Estimators will overwrite some part of the style using the `sk-estimator` class\n",
              "*/\n",
              "\n",
              "/* Pipeline and ColumnTransformer style (default) */\n",
              "\n",
              "#sk-container-id-1 div.sk-toggleable {\n",
              "  /* Default theme specific background. It is overwritten whether we have a\n",
              "  specific estimator or a Pipeline/ColumnTransformer */\n",
              "  background-color: var(--sklearn-color-background);\n",
              "}\n",
              "\n",
              "/* Toggleable label */\n",
              "#sk-container-id-1 label.sk-toggleable__label {\n",
              "  cursor: pointer;\n",
              "  display: flex;\n",
              "  width: 100%;\n",
              "  margin-bottom: 0;\n",
              "  padding: 0.5em;\n",
              "  box-sizing: border-box;\n",
              "  text-align: center;\n",
              "  align-items: start;\n",
              "  justify-content: space-between;\n",
              "  gap: 0.5em;\n",
              "}\n",
              "\n",
              "#sk-container-id-1 label.sk-toggleable__label .caption {\n",
              "  font-size: 0.6rem;\n",
              "  font-weight: lighter;\n",
              "  color: var(--sklearn-color-text-muted);\n",
              "}\n",
              "\n",
              "#sk-container-id-1 label.sk-toggleable__label-arrow:before {\n",
              "  /* Arrow on the left of the label */\n",
              "  content: \"▸\";\n",
              "  float: left;\n",
              "  margin-right: 0.25em;\n",
              "  color: var(--sklearn-color-icon);\n",
              "}\n",
              "\n",
              "#sk-container-id-1 label.sk-toggleable__label-arrow:hover:before {\n",
              "  color: var(--sklearn-color-text);\n",
              "}\n",
              "\n",
              "/* Toggleable content - dropdown */\n",
              "\n",
              "#sk-container-id-1 div.sk-toggleable__content {\n",
              "  max-height: 0;\n",
              "  max-width: 0;\n",
              "  overflow: hidden;\n",
              "  text-align: left;\n",
              "  /* unfitted */\n",
              "  background-color: var(--sklearn-color-unfitted-level-0);\n",
              "}\n",
              "\n",
              "#sk-container-id-1 div.sk-toggleable__content.fitted {\n",
              "  /* fitted */\n",
              "  background-color: var(--sklearn-color-fitted-level-0);\n",
              "}\n",
              "\n",
              "#sk-container-id-1 div.sk-toggleable__content pre {\n",
              "  margin: 0.2em;\n",
              "  border-radius: 0.25em;\n",
              "  color: var(--sklearn-color-text);\n",
              "  /* unfitted */\n",
              "  background-color: var(--sklearn-color-unfitted-level-0);\n",
              "}\n",
              "\n",
              "#sk-container-id-1 div.sk-toggleable__content.fitted pre {\n",
              "  /* unfitted */\n",
              "  background-color: var(--sklearn-color-fitted-level-0);\n",
              "}\n",
              "\n",
              "#sk-container-id-1 input.sk-toggleable__control:checked~div.sk-toggleable__content {\n",
              "  /* Expand drop-down */\n",
              "  max-height: 200px;\n",
              "  max-width: 100%;\n",
              "  overflow: auto;\n",
              "}\n",
              "\n",
              "#sk-container-id-1 input.sk-toggleable__control:checked~label.sk-toggleable__label-arrow:before {\n",
              "  content: \"▾\";\n",
              "}\n",
              "\n",
              "/* Pipeline/ColumnTransformer-specific style */\n",
              "\n",
              "#sk-container-id-1 div.sk-label input.sk-toggleable__control:checked~label.sk-toggleable__label {\n",
              "  color: var(--sklearn-color-text);\n",
              "  background-color: var(--sklearn-color-unfitted-level-2);\n",
              "}\n",
              "\n",
              "#sk-container-id-1 div.sk-label.fitted input.sk-toggleable__control:checked~label.sk-toggleable__label {\n",
              "  background-color: var(--sklearn-color-fitted-level-2);\n",
              "}\n",
              "\n",
              "/* Estimator-specific style */\n",
              "\n",
              "/* Colorize estimator box */\n",
              "#sk-container-id-1 div.sk-estimator input.sk-toggleable__control:checked~label.sk-toggleable__label {\n",
              "  /* unfitted */\n",
              "  background-color: var(--sklearn-color-unfitted-level-2);\n",
              "}\n",
              "\n",
              "#sk-container-id-1 div.sk-estimator.fitted input.sk-toggleable__control:checked~label.sk-toggleable__label {\n",
              "  /* fitted */\n",
              "  background-color: var(--sklearn-color-fitted-level-2);\n",
              "}\n",
              "\n",
              "#sk-container-id-1 div.sk-label label.sk-toggleable__label,\n",
              "#sk-container-id-1 div.sk-label label {\n",
              "  /* The background is the default theme color */\n",
              "  color: var(--sklearn-color-text-on-default-background);\n",
              "}\n",
              "\n",
              "/* On hover, darken the color of the background */\n",
              "#sk-container-id-1 div.sk-label:hover label.sk-toggleable__label {\n",
              "  color: var(--sklearn-color-text);\n",
              "  background-color: var(--sklearn-color-unfitted-level-2);\n",
              "}\n",
              "\n",
              "/* Label box, darken color on hover, fitted */\n",
              "#sk-container-id-1 div.sk-label.fitted:hover label.sk-toggleable__label.fitted {\n",
              "  color: var(--sklearn-color-text);\n",
              "  background-color: var(--sklearn-color-fitted-level-2);\n",
              "}\n",
              "\n",
              "/* Estimator label */\n",
              "\n",
              "#sk-container-id-1 div.sk-label label {\n",
              "  font-family: monospace;\n",
              "  font-weight: bold;\n",
              "  display: inline-block;\n",
              "  line-height: 1.2em;\n",
              "}\n",
              "\n",
              "#sk-container-id-1 div.sk-label-container {\n",
              "  text-align: center;\n",
              "}\n",
              "\n",
              "/* Estimator-specific */\n",
              "#sk-container-id-1 div.sk-estimator {\n",
              "  font-family: monospace;\n",
              "  border: 1px dotted var(--sklearn-color-border-box);\n",
              "  border-radius: 0.25em;\n",
              "  box-sizing: border-box;\n",
              "  margin-bottom: 0.5em;\n",
              "  /* unfitted */\n",
              "  background-color: var(--sklearn-color-unfitted-level-0);\n",
              "}\n",
              "\n",
              "#sk-container-id-1 div.sk-estimator.fitted {\n",
              "  /* fitted */\n",
              "  background-color: var(--sklearn-color-fitted-level-0);\n",
              "}\n",
              "\n",
              "/* on hover */\n",
              "#sk-container-id-1 div.sk-estimator:hover {\n",
              "  /* unfitted */\n",
              "  background-color: var(--sklearn-color-unfitted-level-2);\n",
              "}\n",
              "\n",
              "#sk-container-id-1 div.sk-estimator.fitted:hover {\n",
              "  /* fitted */\n",
              "  background-color: var(--sklearn-color-fitted-level-2);\n",
              "}\n",
              "\n",
              "/* Specification for estimator info (e.g. \"i\" and \"?\") */\n",
              "\n",
              "/* Common style for \"i\" and \"?\" */\n",
              "\n",
              ".sk-estimator-doc-link,\n",
              "a:link.sk-estimator-doc-link,\n",
              "a:visited.sk-estimator-doc-link {\n",
              "  float: right;\n",
              "  font-size: smaller;\n",
              "  line-height: 1em;\n",
              "  font-family: monospace;\n",
              "  background-color: var(--sklearn-color-background);\n",
              "  border-radius: 1em;\n",
              "  height: 1em;\n",
              "  width: 1em;\n",
              "  text-decoration: none !important;\n",
              "  margin-left: 0.5em;\n",
              "  text-align: center;\n",
              "  /* unfitted */\n",
              "  border: var(--sklearn-color-unfitted-level-1) 1pt solid;\n",
              "  color: var(--sklearn-color-unfitted-level-1);\n",
              "}\n",
              "\n",
              ".sk-estimator-doc-link.fitted,\n",
              "a:link.sk-estimator-doc-link.fitted,\n",
              "a:visited.sk-estimator-doc-link.fitted {\n",
              "  /* fitted */\n",
              "  border: var(--sklearn-color-fitted-level-1) 1pt solid;\n",
              "  color: var(--sklearn-color-fitted-level-1);\n",
              "}\n",
              "\n",
              "/* On hover */\n",
              "div.sk-estimator:hover .sk-estimator-doc-link:hover,\n",
              ".sk-estimator-doc-link:hover,\n",
              "div.sk-label-container:hover .sk-estimator-doc-link:hover,\n",
              ".sk-estimator-doc-link:hover {\n",
              "  /* unfitted */\n",
              "  background-color: var(--sklearn-color-unfitted-level-3);\n",
              "  color: var(--sklearn-color-background);\n",
              "  text-decoration: none;\n",
              "}\n",
              "\n",
              "div.sk-estimator.fitted:hover .sk-estimator-doc-link.fitted:hover,\n",
              ".sk-estimator-doc-link.fitted:hover,\n",
              "div.sk-label-container:hover .sk-estimator-doc-link.fitted:hover,\n",
              ".sk-estimator-doc-link.fitted:hover {\n",
              "  /* fitted */\n",
              "  background-color: var(--sklearn-color-fitted-level-3);\n",
              "  color: var(--sklearn-color-background);\n",
              "  text-decoration: none;\n",
              "}\n",
              "\n",
              "/* Span, style for the box shown on hovering the info icon */\n",
              ".sk-estimator-doc-link span {\n",
              "  display: none;\n",
              "  z-index: 9999;\n",
              "  position: relative;\n",
              "  font-weight: normal;\n",
              "  right: .2ex;\n",
              "  padding: .5ex;\n",
              "  margin: .5ex;\n",
              "  width: min-content;\n",
              "  min-width: 20ex;\n",
              "  max-width: 50ex;\n",
              "  color: var(--sklearn-color-text);\n",
              "  box-shadow: 2pt 2pt 4pt #999;\n",
              "  /* unfitted */\n",
              "  background: var(--sklearn-color-unfitted-level-0);\n",
              "  border: .5pt solid var(--sklearn-color-unfitted-level-3);\n",
              "}\n",
              "\n",
              ".sk-estimator-doc-link.fitted span {\n",
              "  /* fitted */\n",
              "  background: var(--sklearn-color-fitted-level-0);\n",
              "  border: var(--sklearn-color-fitted-level-3);\n",
              "}\n",
              "\n",
              ".sk-estimator-doc-link:hover span {\n",
              "  display: block;\n",
              "}\n",
              "\n",
              "/* \"?\"-specific style due to the `<a>` HTML tag */\n",
              "\n",
              "#sk-container-id-1 a.estimator_doc_link {\n",
              "  float: right;\n",
              "  font-size: 1rem;\n",
              "  line-height: 1em;\n",
              "  font-family: monospace;\n",
              "  background-color: var(--sklearn-color-background);\n",
              "  border-radius: 1rem;\n",
              "  height: 1rem;\n",
              "  width: 1rem;\n",
              "  text-decoration: none;\n",
              "  /* unfitted */\n",
              "  color: var(--sklearn-color-unfitted-level-1);\n",
              "  border: var(--sklearn-color-unfitted-level-1) 1pt solid;\n",
              "}\n",
              "\n",
              "#sk-container-id-1 a.estimator_doc_link.fitted {\n",
              "  /* fitted */\n",
              "  border: var(--sklearn-color-fitted-level-1) 1pt solid;\n",
              "  color: var(--sklearn-color-fitted-level-1);\n",
              "}\n",
              "\n",
              "/* On hover */\n",
              "#sk-container-id-1 a.estimator_doc_link:hover {\n",
              "  /* unfitted */\n",
              "  background-color: var(--sklearn-color-unfitted-level-3);\n",
              "  color: var(--sklearn-color-background);\n",
              "  text-decoration: none;\n",
              "}\n",
              "\n",
              "#sk-container-id-1 a.estimator_doc_link.fitted:hover {\n",
              "  /* fitted */\n",
              "  background-color: var(--sklearn-color-fitted-level-3);\n",
              "}\n",
              "</style><div id=\"sk-container-id-1\" class=\"sk-top-container\"><div class=\"sk-text-repr-fallback\"><pre>LassoCV()</pre><b>In a Jupyter environment, please rerun this cell to show the HTML representation or trust the notebook. <br />On GitHub, the HTML representation is unable to render, please try loading this page with nbviewer.org.</b></div><div class=\"sk-container\" hidden><div class=\"sk-item\"><div class=\"sk-estimator fitted sk-toggleable\"><input class=\"sk-toggleable__control sk-hidden--visually\" id=\"sk-estimator-id-1\" type=\"checkbox\" checked><label for=\"sk-estimator-id-1\" class=\"sk-toggleable__label fitted sk-toggleable__label-arrow\"><div><div>LassoCV</div></div><div><a class=\"sk-estimator-doc-link fitted\" rel=\"noreferrer\" target=\"_blank\" href=\"https://scikit-learn.org/1.6/modules/generated/sklearn.linear_model.LassoCV.html\">?<span>Documentation for LassoCV</span></a><span class=\"sk-estimator-doc-link fitted\">i<span>Fitted</span></span></div></label><div class=\"sk-toggleable__content fitted\"><pre>LassoCV()</pre></div> </div></div></div></div>"
            ]
          },
          "metadata": {},
          "execution_count": 10
        }
      ]
    },
    {
      "cell_type": "code",
      "source": [
        "lcv.predict(Xtest) # Xtest是测试数据"
      ],
      "metadata": {
        "colab": {
          "base_uri": "https://localhost:8080/"
        },
        "id": "z5T8m16E8lCK",
        "outputId": "5d08f9dc-b6f7-4e81-c555-d08453ff0189"
      },
      "execution_count": 11,
      "outputs": [
        {
          "output_type": "execute_result",
          "data": {
            "text/plain": [
              "array([ 3.98008821, -3.08033929,  2.18131328, -2.31416936, -0.23358596,\n",
              "       -0.19854954,  2.00330157, -1.10847386, -0.74814347, -0.60987855,\n",
              "       -1.58739828, -3.90355513, -2.62110761,  0.42308883,  2.01399291,\n",
              "       -1.93166377, -3.19533827,  0.69609507, -3.68780296, -2.61767551,\n",
              "        0.30342834,  2.63774952,  1.86309541, -3.38131074,  0.20425317,\n",
              "       -2.32503249,  0.29231135, -2.36611107, -0.46152307,  2.23627036,\n",
              "       -2.22792212, -2.77294254,  0.45145982,  2.16618975, -0.16135037,\n",
              "        0.32921775, -0.71715883, -0.44468005, -0.60954355, -3.31942533,\n",
              "        2.25896777, -1.3933835 , -2.36626119, -3.85327376, -0.44777677,\n",
              "        2.26117882, -2.52393236, -0.83897157,  1.61402926, -3.10283789,\n",
              "       -1.29597502,  2.25022913, -2.82976674,  0.75413134,  2.99771367,\n",
              "        0.46037152, -0.30086946,  0.19021333, -1.0983612 ,  1.17945353,\n",
              "       -0.23913773,  0.95847022, -2.08491211,  0.24177928, -1.02179537,\n",
              "        1.8646681 , -0.81056124,  3.38749007, -0.63118756,  2.23058453,\n",
              "        3.56432262,  4.15042362,  0.19852587, -0.85071444, -2.95518301,\n",
              "        2.43647342,  1.16174061,  1.1262783 ,  0.6629227 ,  0.90472852,\n",
              "        3.37049268, -1.64682441, -3.28179182, -3.11882558,  2.72832182,\n",
              "        0.95470238,  0.47530098,  1.27345345, -1.09988066,  2.4592591 ,\n",
              "        0.98389206, -0.47022371,  0.76285149,  1.37562836,  1.25105749,\n",
              "       -1.4846677 ,  0.19430008,  1.39972643, -3.35859212, -2.07322295])"
            ]
          },
          "metadata": {},
          "execution_count": 11
        }
      ]
    },
    {
      "cell_type": "markdown",
      "metadata": {
        "id": "-yFVOY9aNXxv"
      },
      "source": [
        "We calculate the R-squared on the small test set that we have"
      ]
    },
    {
      "cell_type": "code",
      "execution_count": 8,
      "metadata": {
        "id": "djcr2rq0NXxv",
        "colab": {
          "base_uri": "https://localhost:8080/"
        },
        "outputId": "57ea62ba-ca2e-4786-86d2-d3a891e8cea8"
      },
      "outputs": [
        {
          "output_type": "execute_result",
          "data": {
            "text/plain": [
              "(0.7442459524134921, 0.14038911937636667, 0.5943387177357677)"
            ]
          },
          "metadata": {},
          "execution_count": 8
        }
      ],
      "source": [
        "r2_lcv = r2_score(ytest, lcv.predict(Xtest))\n",
        "r2_ridge = r2_score(ytest, ridge.predict(Xtest))\n",
        "r2_enet = r2_score(ytest, enet.predict(Xtest))\n",
        "r2_lcv, r2_ridge, r2_enet"
      ]
    },
    {
      "cell_type": "markdown",
      "metadata": {
        "id": "syiyl10ONXxv"
      },
      "source": [
        "We also calculate what the R-squared would be in the population limit (in our case for practical purposes when we have a very very large test sample)"
      ]
    },
    {
      "cell_type": "code",
      "execution_count": 12,
      "metadata": {
        "id": "d6DZheRTNXxv",
        "colab": {
          "base_uri": "https://localhost:8080/"
        },
        "outputId": "c01a338e-9970-4042-8763-043b9d3f6469"
      },
      "outputs": [
        {
          "output_type": "execute_result",
          "data": {
            "text/plain": [
              "(0.7401948583244713, 0.1874006850712323, 0.625494271659774)"
            ]
          },
          "metadata": {},
          "execution_count": 12
        }
      ],
      "source": [
        "r2_lcv = r2_score(ypop, lcv.predict(Xpop))\n",
        "r2_ridge = r2_score(ypop, ridge.predict(Xpop))\n",
        "r2_enet = r2_score(ypop, enet.predict(Xpop))\n",
        "r2_lcv, r2_ridge, r2_enet"
      ]
    },
    {
      "cell_type": "markdown",
      "metadata": {
        "id": "ioo1FK-kNXxw"
      },
      "source": [
        "We can also try this with fitting OLS after Lasso selects variables, but note, this is the wrong post-lasso OLS with cross-validation!"
      ]
    },
    {
      "cell_type": "code",
      "execution_count": 15,
      "metadata": {
        "id": "BEp9fWfHNXxw"
      },
      "outputs": [],
      "source": [
        "class PostLassoOLS:\n",
        "\n",
        "    def fit(self, X, y):\n",
        "        lasso = LassoCV().fit(X, y)\n",
        "        self.feats_ = np.abs(lasso.coef_) > 1e-6 #标记被选中的特征\n",
        "        self.lr_ = LinearRegression().fit(X[:, self.feats_], y)\n",
        "        return self\n",
        "\n",
        "    def predict(self, X):\n",
        "        return self.lr_.predict(X[:, self.feats_])\n",
        "\n",
        "    @property\n",
        "    def coef_(self):\n",
        "        return self.lr_.coef_"
      ]
    },
    {
      "cell_type": "code",
      "execution_count": 14,
      "metadata": {
        "id": "tcreqHGDNXxw",
        "colab": {
          "base_uri": "https://localhost:8080/"
        },
        "outputId": "ee08081c-4f86-4deb-8cd9-e7380543c10c"
      },
      "outputs": [
        {
          "output_type": "execute_result",
          "data": {
            "text/plain": [
              "0.6297691921328048"
            ]
          },
          "metadata": {},
          "execution_count": 14
        }
      ],
      "source": [
        "plols = PostLassoOLS().fit(X, y)\n",
        "r2_score(ypop, plols.predict(Xpop))"
      ]
    },
    {
      "cell_type": "markdown",
      "metadata": {
        "id": "JZU3DVkgNXxw"
      },
      "source": [
        "## Plug-in Hyperparameter Lasso and Post-Lasso OLS"
      ]
    },
    {
      "cell_type": "markdown",
      "metadata": {
        "id": "VdUmbg1bNXxx",
        "papermill": {
          "duration": 0.01429,
          "end_time": "2021-02-15T11:01:45.388902",
          "exception": false,
          "start_time": "2021-02-15T11:01:45.374612",
          "status": "completed"
        },
        "tags": []
      },
      "source": [
        "Here we compute the lasso and ols post lasso using plug-in choices for penalty levels."
      ]
    },
    {
      "cell_type": "markdown",
      "metadata": {
        "id": "xLXh-KPp4ivz"
      },
      "source": [
        "\\We use \"plug-in\" tuning with a theoretically valid choice of penalty $\\lambda = 2 \\cdot c \\hat{\\sigma} \\sqrt{n} \\Phi^{-1}(1-\\alpha/2p)$, where $c>1$ and $1-\\alpha$ is a confidence level, and $\\Phi^{-1}$ denotes the quantile function. Under homoskedasticity, this choice ensures that the Lasso predictor is well behaved, delivering good predictive performance under approximate sparsity. In practice, this formula will work well even in the absence of homoskedasticity, especially when the random variables $\\epsilon$ and $X$ in the regression equation decay quickly at the tails.\n",
        "\n",
        "In practice, many people choose to use cross-validation, which is perfectly fine for predictive tasks. However, when conducting inference, to make our analysis valid we will require cross-fitting in addition to cross-validation. As we have not yet discussed cross-fitting, we rely on this theoretically-driven penalty in order to allow for accurate inference in the upcoming notebooks."
      ]
    },
    {
      "cell_type": "markdown",
      "metadata": {
        "id": "8qqapxWmNXxx"
      },
      "source": [
        "We pull an analogue of R's rlasso. Rlasso functionality: it is searching the right set of regressors. This function was made for the case of ***p*** regressors and ***n*** observations where ***p >>>> n***. It assumes that the error is i.i.d. The errors may be non-Gaussian or heteroscedastic.\\\n",
        "The post lasso function makes OLS with the selected ***T*** regressors.\n",
        "To select those parameters, they use $\\lambda$ as variable to penalize\\\n",
        "**Funny thing: the function rlasso was named like that because it is the \"rigorous\" Lasso.**\\\n",
        "We find a Python code that tries to replicate the main function of hdm r-package. It was made by [Max Huppertz](https://maxhuppertz.github.io/code/). His library is this [repository](https://github.com/maxhuppertz/hdmpy). If not using colab, download its repository and copy this folder to your site-packages folder. In my case it is located here ***C:\\Python\\Python38\\Lib\\site-packages*** . We need to install this package ***pip install multiprocess***."
      ]
    },
    {
      "cell_type": "code",
      "execution_count": null,
      "metadata": {
        "id": "u7tAphVB8fVV"
      },
      "outputs": [],
      "source": [
        "!git clone https://github.com/maxhuppertz/hdmpy.git\n",
        "!pip install multiprocess"
      ]
    },
    {
      "cell_type": "code",
      "execution_count": null,
      "metadata": {
        "id": "OZz-6CRZNXxx"
      },
      "outputs": [],
      "source": [
        "# We wrap the package so that it has the familiar sklearn API\n",
        "import hdmpy\n",
        "\n",
        "\n",
        "class RLasso(BaseEstimator):\n",
        "\n",
        "    def __init__(self, *, post=True):\n",
        "        self.post = post\n",
        "\n",
        "    def fit(self, X, y):\n",
        "        self.rlasso_ = hdmpy.rlasso(X, y, post=self.post)\n",
        "        return self\n",
        "\n",
        "    def predict(self, X):\n",
        "        return X @ np.array(self.rlasso_.est['beta']).flatten() + np.array(self.rlasso_.est['intercept'])"
      ]
    },
    {
      "cell_type": "code",
      "execution_count": null,
      "metadata": {
        "id": "Z_8rwavpNXxx"
      },
      "outputs": [],
      "source": [
        "rlasso = RLasso(post=False).fit(X, y)\n",
        "rlasso_post = RLasso(post=True).fit(X, y)"
      ]
    },
    {
      "cell_type": "code",
      "execution_count": null,
      "metadata": {
        "id": "NZ6en14_NXxx"
      },
      "outputs": [],
      "source": [
        "r2_rlasso = r2_score(ytest, rlasso.predict(Xtest))\n",
        "r2_rlasso_post = r2_score(ytest, rlasso_post.predict(Xtest))\n",
        "r2_rlasso, r2_rlasso_post"
      ]
    },
    {
      "cell_type": "code",
      "execution_count": null,
      "metadata": {
        "id": "dp4jXG8eNXxx"
      },
      "outputs": [],
      "source": [
        "r2_rlasso = r2_score(ypop, rlasso.predict(Xpop))\n",
        "r2_rlasso_post = r2_score(ypop, rlasso_post.predict(Xpop))\n",
        "r2_rlasso, r2_rlasso_post"
      ]
    },
    {
      "cell_type": "markdown",
      "metadata": {
        "id": "RhBRFMSbNXxy"
      },
      "source": [
        "## LAVA: Dense + Sparse Coefficients"
      ]
    },
    {
      "cell_type": "markdown",
      "metadata": {
        "id": "Ed5p108HNXxy"
      },
      "source": [
        "Now let's try the LAVA estimator"
      ]
    },
    {
      "cell_type": "code",
      "execution_count": null,
      "metadata": {
        "id": "NukBqoVfNXxy"
      },
      "outputs": [],
      "source": [
        "# We construct an sklearn API estimator that implements the LAVA method\n",
        "\n",
        "\n",
        "class Lava(BaseEstimator):\n",
        "\n",
        "    def __init__(self, *, alpha1=1, alpha2=1, iterations=5):\n",
        "        self.alpha1 = alpha1  # l1 penalty\n",
        "        self.alpha2 = alpha2\n",
        "        self.iterations = iterations\n",
        "\n",
        "    def fit(self, X, y):\n",
        "        ridge = Ridge(self.alpha2).fit(X, y)\n",
        "        lasso = Lasso(self.alpha1).fit(X, y - ridge.predict(X))\n",
        "\n",
        "        for _ in range(self.iterations - 1):\n",
        "            ridge = ridge.fit(X, y - lasso.predict(X))\n",
        "            lasso = lasso.fit(X, y - ridge.predict(X))\n",
        "\n",
        "        self.lasso_ = lasso\n",
        "        self.ridge_ = ridge\n",
        "        return self\n",
        "\n",
        "    def predict(self, X):\n",
        "        return self.lasso_.predict(X) + self.ridge_.predict(X)"
      ]
    },
    {
      "cell_type": "code",
      "execution_count": null,
      "metadata": {
        "id": "skdYbLrSNXxy"
      },
      "outputs": [],
      "source": [
        "lava = GridSearchCV(Lava(), {'alpha1': np.logspace(-4, 4, 20), 'alpha2': np.logspace(-4, 4, 20)},\n",
        "                    scoring='r2', n_jobs=-1)\n",
        "lava.fit(X, y)"
      ]
    },
    {
      "cell_type": "code",
      "execution_count": null,
      "metadata": {
        "id": "bOLdzf7tNXxz"
      },
      "outputs": [],
      "source": [
        "lava.best_estimator_"
      ]
    },
    {
      "cell_type": "code",
      "execution_count": null,
      "metadata": {
        "id": "0ZYyTCh3NXxz"
      },
      "outputs": [],
      "source": [
        "r2_lava = r2_score(ytest, lava.predict(Xtest))\n",
        "r2_lava"
      ]
    },
    {
      "cell_type": "code",
      "execution_count": null,
      "metadata": {
        "id": "Y5GuiuJMNXxz"
      },
      "outputs": [],
      "source": [
        "r2_lava = r2_score(ypop, lava.predict(Xpop))\n",
        "r2_lava"
      ]
    },
    {
      "cell_type": "markdown",
      "metadata": {
        "id": "T9X2dSkxNXxz"
      },
      "source": [
        "## Summarizing Results"
      ]
    },
    {
      "cell_type": "code",
      "execution_count": null,
      "metadata": {
        "id": "uGp1L54WNXxz"
      },
      "outputs": [],
      "source": [
        "df = pd.DataFrame({'LassoCV': [r2_lcv],\n",
        "                   'RidgeCV': [r2_ridge],\n",
        "                   'ElasticNetCV': [r2_enet],\n",
        "                   'RLasso': [r2_rlasso],\n",
        "                   'RLassoOLS': [r2_rlasso_post],\n",
        "                   'Lava': [r2_lava]}).T\n",
        "df.columns = ['Population R-squared']\n",
        "df"
      ]
    },
    {
      "cell_type": "code",
      "execution_count": null,
      "metadata": {
        "id": "xB5_jtumNXx0"
      },
      "outputs": [],
      "source": [
        "plt.figure()\n",
        "plt.title(\"Different Models for Approximately Sparse Regime\")\n",
        "# 45 degree line\n",
        "plt.plot([np.min(gXtest), np.max(gXtest)], [np.min(gXtest), np.max(gXtest)], color='black', linestyle='--')\n",
        "\n",
        "# different models\n",
        "plt.scatter(gXtest, ridge.predict(Xtest), marker='^', c='brown', s=5, label='Ridge')\n",
        "plt.scatter(gXtest, enet.predict(Xtest), marker='v', c='yellow', s=5, label='ENet')\n",
        "plt.scatter(gXtest, rlasso.predict(Xtest), marker='D', c='red', s=5, label='RLasso')\n",
        "plt.scatter(gXtest, rlasso_post.predict(Xtest), marker='o', c='green', s=5, label='RLasso Post')\n",
        "plt.scatter(gXtest, lcv.predict(Xtest), marker='<', c='blue', s=5, label='LassoCV')\n",
        "plt.scatter(gXtest, lava.predict(Xtest), marker='>', c='magenta', s=5, label='Lava')\n",
        "plt.legend(loc='lower right')\n",
        "\n",
        "plt.show()"
      ]
    },
    {
      "cell_type": "markdown",
      "metadata": {
        "id": "I_Vf3rmIIGbm"
      },
      "source": [
        "## Data Generating Process: Dense Coefficients"
      ]
    },
    {
      "cell_type": "code",
      "execution_count": null,
      "metadata": {
        "id": "kfTohbAiIMKH"
      },
      "outputs": [],
      "source": [
        "n = 100\n",
        "p = 400\n",
        "X, y, gX, Xtest, ytest, gXtest, Xpop, ypop, gXpop, betas = gen_data(n, p, regime=\"dense\")"
      ]
    },
    {
      "cell_type": "code",
      "execution_count": null,
      "metadata": {
        "id": "SQ5V0IAMIMgI"
      },
      "outputs": [],
      "source": [
        "plt.figure()\n",
        "plt.title(r\"$Y$ vs. $g(X)$\")\n",
        "plt.scatter(gX, y)\n",
        "plt.xlabel(r\"$g(X)$\")\n",
        "plt.ylabel(r\"$Y$\")\n",
        "plt.show()"
      ]
    },
    {
      "cell_type": "code",
      "execution_count": null,
      "metadata": {
        "id": "jwFhvQhAIdR1"
      },
      "outputs": [],
      "source": [
        "print(f\"theoretical R^2:, {1 - np.var(ypop - gXpop) / np.var(ypop)}\")\n",
        "print(f\"theoretical R^2:, {np.var(gXpop) / np.var(ypop)}\")"
      ]
    },
    {
      "cell_type": "code",
      "execution_count": null,
      "metadata": {
        "id": "1ksRgX46Lj7y"
      },
      "outputs": [],
      "source": [
        "plt.figure()\n",
        "plt.scatter(range(len(betas)), abs(betas), s=5, color='b')\n",
        "plt.xlabel(r'$\\beta$')\n",
        "plt.ylabel('Magnitude (log scale)')\n",
        "plt.title(r'$\\beta$ Magnitude')\n",
        "plt.yscale('log')\n",
        "plt.show()"
      ]
    },
    {
      "cell_type": "code",
      "execution_count": null,
      "metadata": {
        "id": "FpqSFZmtIdX4"
      },
      "outputs": [],
      "source": [
        "# Regressions\n",
        "lcv = LassoCV().fit(X, y)\n",
        "ridge = RidgeCV(alphas=(1, 10, 25, 50, 100)).fit(X, y)\n",
        "enet = ElasticNetCV(l1_ratio=0.5).fit(X, y)\n",
        "rlasso = RLasso(post=False).fit(X, y)\n",
        "rlasso_post = RLasso(post=True).fit(X, y)\n",
        "lava = GridSearchCV(Lava(), {'alpha1': np.logspace(-4, 4, 20), 'alpha2': np.logspace(-4, 4, 20)},\n",
        "                    scoring='r2', n_jobs=-1).fit(X, y)"
      ]
    },
    {
      "cell_type": "code",
      "execution_count": null,
      "metadata": {
        "id": "j-3fkIjDIpOg"
      },
      "outputs": [],
      "source": [
        "r2_lcv = r2_score(ypop, lcv.predict(Xpop))\n",
        "r2_ridge = r2_score(ypop, ridge.predict(Xpop))\n",
        "r2_enet = r2_score(ypop, enet.predict(Xpop))\n",
        "r2_rlasso = r2_score(ypop, rlasso.predict(Xpop))\n",
        "r2_rlasso_post = r2_score(ypop, rlasso_post.predict(Xpop))\n",
        "r2_lava = r2_score(ypop, lava.predict(Xpop))"
      ]
    },
    {
      "cell_type": "code",
      "execution_count": null,
      "metadata": {
        "id": "7-fwE0LiIpTn"
      },
      "outputs": [],
      "source": [
        "df = pd.DataFrame({'LassoCV': [r2_lcv],\n",
        "                   'RidgeCV': [r2_ridge],\n",
        "                   'ElasticNetCV': [r2_enet],\n",
        "                   'RLasso': [r2_rlasso],\n",
        "                   'RLassoOLS': [r2_rlasso_post],\n",
        "                   'Lava': [r2_lava]}).T\n",
        "df.columns = ['Population R-squared']\n",
        "df"
      ]
    },
    {
      "cell_type": "code",
      "execution_count": null,
      "metadata": {
        "id": "_h3-sAHVIdel"
      },
      "outputs": [],
      "source": [
        "plt.figure()\n",
        "plt.title(\"Different Models for Dense Regime\")\n",
        "# 45 degree line\n",
        "plt.plot([np.min(gXtest), np.max(gXtest)], [np.min(gXtest), np.max(gXtest)], color='black', linestyle='--')\n",
        "\n",
        "# different models\n",
        "plt.scatter(gXtest, ridge.predict(Xtest), marker='^', c='brown', s=5, label='Ridge')\n",
        "plt.scatter(gXtest, enet.predict(Xtest), marker='v', c='yellow', s=5, label='ENet')\n",
        "plt.scatter(gXtest, rlasso.predict(Xtest), marker='D', c='red', s=5, label='RLasso')\n",
        "plt.scatter(gXtest, rlasso_post.predict(Xtest), marker='o', c='green', s=5, label='RLasso Post')\n",
        "plt.scatter(gXtest, lcv.predict(Xtest), marker='<', c='blue', s=5, label='LassoCV')\n",
        "plt.scatter(gXtest, lava.predict(Xtest), marker='>', c='magenta', s=5, label='Lava')\n",
        "plt.legend(loc='lower right')\n",
        "\n",
        "plt.show()"
      ]
    },
    {
      "cell_type": "markdown",
      "metadata": {
        "id": "fRMnSTE0NXx0",
        "papermill": {
          "duration": 0.018842,
          "end_time": "2021-02-15T11:02:51.941852",
          "exception": false,
          "start_time": "2021-02-15T11:02:51.923010",
          "status": "completed"
        },
        "tags": []
      },
      "source": [
        "## Data Generating Process: Approximately Sparse + Small Dense Part"
      ]
    },
    {
      "cell_type": "code",
      "execution_count": null,
      "metadata": {
        "id": "kn_fmyZ0NXx0"
      },
      "outputs": [],
      "source": [
        "n = 100\n",
        "p = 400\n",
        "X, y, gX, Xtest, ytest, gXtest, Xpop, ypop, gXpop, betas = gen_data(n, p, regime=\"sparsedense\")"
      ]
    },
    {
      "cell_type": "code",
      "execution_count": null,
      "metadata": {
        "id": "uGUmB3Z_IeFL"
      },
      "outputs": [],
      "source": [
        "plt.figure()\n",
        "plt.title(r\"$Y$ vs. $g(X)$\")\n",
        "plt.scatter(gX, y)\n",
        "plt.xlabel(r\"$g(X)$\")\n",
        "plt.ylabel(r\"$Y$\")\n",
        "plt.show()"
      ]
    },
    {
      "cell_type": "code",
      "execution_count": null,
      "metadata": {
        "id": "D86K6_U2NXx0"
      },
      "outputs": [],
      "source": [
        "print(f\"theoretical R^2:, {1 - np.var(ypop - gXpop) / np.var(ypop)}\")\n",
        "print(f\"theoretical R^2:, {np.var(gXpop) / np.var(ypop)}\")"
      ]
    },
    {
      "cell_type": "code",
      "execution_count": null,
      "metadata": {
        "id": "cJeL2ubQLmwY"
      },
      "outputs": [],
      "source": [
        "plt.figure()\n",
        "plt.scatter(range(len(betas)), abs(betas), s=5, color='b')\n",
        "plt.xlabel(r'$\\beta$')\n",
        "plt.ylabel('Magnitude (log scale)')\n",
        "plt.title(r'$\\beta$ Magnitude')\n",
        "plt.yscale('log')\n",
        "plt.show()"
      ]
    },
    {
      "cell_type": "code",
      "execution_count": null,
      "metadata": {
        "id": "BalMbmgsNXx0"
      },
      "outputs": [],
      "source": [
        "# Regressions\n",
        "lcv = LassoCV().fit(X, y)\n",
        "ridge = RidgeCV().fit(X, y)\n",
        "enet = ElasticNetCV(l1_ratio=0.5).fit(X, y)\n",
        "rlasso = RLasso(post=False).fit(X, y)\n",
        "rlasso_post = RLasso(post=True).fit(X, y)\n",
        "lava = GridSearchCV(Lava(), {'alpha1': np.logspace(-4, 4, 20), 'alpha2': np.logspace(-4, 4, 20)},\n",
        "                    scoring='r2', n_jobs=-1).fit(X, y)"
      ]
    },
    {
      "cell_type": "code",
      "execution_count": null,
      "metadata": {
        "id": "42uZ1gIqNXx1"
      },
      "outputs": [],
      "source": [
        "r2_lcv = r2_score(ypop, lcv.predict(Xpop))\n",
        "r2_ridge = r2_score(ypop, ridge.predict(Xpop))\n",
        "r2_enet = r2_score(ypop, enet.predict(Xpop))\n",
        "r2_rlasso = r2_score(ypop, rlasso.predict(Xpop))\n",
        "r2_rlasso_post = r2_score(ypop, rlasso_post.predict(Xpop))\n",
        "r2_lava = r2_score(ypop, lava.predict(Xpop))"
      ]
    },
    {
      "cell_type": "code",
      "execution_count": null,
      "metadata": {
        "id": "2bZbPplkNXx1"
      },
      "outputs": [],
      "source": [
        "df = pd.DataFrame({'LassoCV': [r2_lcv],\n",
        "                   'RidgeCV': [r2_ridge],\n",
        "                   'ElasticNetCV': [r2_enet],\n",
        "                   'RLasso': [r2_rlasso],\n",
        "                   'RLassoOLS': [r2_rlasso_post],\n",
        "                   'Lava': [r2_lava]}).T\n",
        "df.columns = ['Population R-squared']\n",
        "df"
      ]
    },
    {
      "cell_type": "code",
      "execution_count": null,
      "metadata": {
        "id": "T0cV196UNXx1"
      },
      "outputs": [],
      "source": [
        "plt.figure()\n",
        "plt.title(\"Different Models for Approximately Sparse + Dense Regime\")\n",
        "# 45 degree line\n",
        "plt.plot([np.min(gXtest), np.max(gXtest)], [np.min(gXtest), np.max(gXtest)], color='black', linestyle='--')\n",
        "\n",
        "# different models\n",
        "plt.scatter(gXtest, ridge.predict(Xtest), marker='^', c='brown', s=5, label='Ridge')\n",
        "plt.scatter(gXtest, enet.predict(Xtest), marker='v', c='yellow', s=5, label='ENet')\n",
        "plt.scatter(gXtest, rlasso.predict(Xtest), marker='D', c='red', s=5, label='RLasso')\n",
        "plt.scatter(gXtest, rlasso_post.predict(Xtest), marker='o', c='green', s=5, label='RLasso Post')\n",
        "plt.scatter(gXtest, lcv.predict(Xtest), marker='<', c='blue', s=5, label='LassoCV')\n",
        "plt.scatter(gXtest, lava.predict(Xtest), marker='>', c='magenta', s=5, label='Lava')\n",
        "plt.legend(loc='lower right')\n",
        "\n",
        "plt.show()"
      ]
    }
  ],
  "metadata": {
    "colab": {
      "provenance": []
    },
    "hide_input": false,
    "kernelspec": {
      "display_name": "Python 3 (ipykernel)",
      "language": "python",
      "name": "python3"
    },
    "language_info": {
      "codemirror_mode": {
        "name": "ipython",
        "version": 3
      },
      "file_extension": ".py",
      "mimetype": "text/x-python",
      "name": "python",
      "nbconvert_exporter": "python",
      "pygments_lexer": "ipython3",
      "version": "3.11.5"
    }
  },
  "nbformat": 4,
  "nbformat_minor": 0
}