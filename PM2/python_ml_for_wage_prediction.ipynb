{
  "cells": [
    {
      "cell_type": "markdown",
      "metadata": {
        "id": "fFIsBLlF7YFv"
      },
      "source": [
        "# A Simple Case Study using Wage Data from 2015"
      ]
    },
    {
      "cell_type": "markdown",
      "metadata": {
        "id": "ssGRQl-d7U9O"
      },
      "source": [
        "We illustrate how to predict an outcome variable $Y$ in a high-dimensional setting, where the number of covariates $p$ is large in relation to the sample size $n$. We use linear prediction rules for estimation, including OLS and the penalized linear methods we've studied. Later, we will also consider nonlinear prediction rules including tree-based methods and neural nets."
      ]
    },
    {
      "cell_type": "code",
      "execution_count": 9,
      "metadata": {
        "id": "57TFoHNk8BIg"
      },
      "outputs": [],
      "source": [
        "# Import relevant packages\n",
        "import pandas as pd\n",
        "import numpy as np\n",
        "import matplotlib.pyplot as plt\n",
        "from sklearn.model_selection import train_test_split\n",
        "from sklearn.model_selection import cross_val_score, KFold\n",
        "from sklearn.metrics import r2_score\n",
        "from sklearn.linear_model import LassoCV, RidgeCV, ElasticNetCV, LinearRegression, Ridge\n",
        "import patsy\n",
        "import warnings\n",
        "from sklearn.base import BaseEstimator\n",
        "import statsmodels.api as sm\n",
        "warnings.simplefilter('ignore')\n",
        "np.random.seed(1234)"
      ]
    },
    {
      "cell_type": "markdown",
      "metadata": {
        "id": "yYmcd6mN7VCV"
      },
      "source": [
        "## Data"
      ]
    },
    {
      "cell_type": "markdown",
      "metadata": {
        "id": "1n1-LWsu53N6"
      },
      "source": [
        "Again, we consider data from the U.S. March Supplement of the Current Population Survey (CPS) in 2015.\n",
        "The preproccessed sample consists of $5150$ never-married individuals."
      ]
    },
    {
      "cell_type": "markdown",
      "metadata": {
        "id": "1or5aUNr7yTv"
      },
      "source": [
        "Set the following file_directory to a place where you downloaded https://raw.githubusercontent.com/CausalAIBook/MetricsMLNotebooks/main/data/wage2015_subsample_inference.csv"
      ]
    },
    {
      "cell_type": "code",
      "execution_count": null,
      "metadata": {
        "id": "vk9EF6RNNK9r"
      },
      "outputs": [],
      "source": [
        "file = \"https://raw.githubusercontent.com/CausalAIBook/MetricsMLNotebooks/main/data/wage2015_subsample_inference.csv\"\n",
        "data = pd.read_csv(file)"
      ]
    },
    {
      "cell_type": "code",
      "execution_count": 10,
      "metadata": {
        "id": "7pn1ukslNK9s",
        "outputId": "62c66701-f38d-4039-96bb-44f6a556e64d",
        "colab": {
          "base_uri": "https://localhost:8080/",
          "height": 320
        }
      },
      "outputs": [
        {
          "output_type": "execute_result",
          "data": {
            "text/plain": [
              "              wage        lwage          sex          shs          hsg  \\\n",
              "count  5150.000000  5150.000000  5150.000000  5150.000000  5150.000000   \n",
              "mean     23.410410     2.970787     0.444466     0.023301     0.243883   \n",
              "std      21.003016     0.570385     0.496955     0.150872     0.429465   \n",
              "min       3.021978     1.105912     0.000000     0.000000     0.000000   \n",
              "25%      13.461538     2.599837     0.000000     0.000000     0.000000   \n",
              "50%      19.230769     2.956512     0.000000     0.000000     0.000000   \n",
              "75%      27.777778     3.324236     1.000000     0.000000     0.000000   \n",
              "max     528.845673     6.270697     1.000000     1.000000     1.000000   \n",
              "\n",
              "               scl          clg           ad           mw           so  \\\n",
              "count  5150.000000  5150.000000  5150.000000  5150.000000  5150.000000   \n",
              "mean      0.278058     0.317670     0.137087     0.259612     0.296505   \n",
              "std       0.448086     0.465616     0.343973     0.438464     0.456761   \n",
              "min       0.000000     0.000000     0.000000     0.000000     0.000000   \n",
              "25%       0.000000     0.000000     0.000000     0.000000     0.000000   \n",
              "50%       0.000000     0.000000     0.000000     0.000000     0.000000   \n",
              "75%       1.000000     1.000000     0.000000     1.000000     1.000000   \n",
              "max       1.000000     1.000000     1.000000     1.000000     1.000000   \n",
              "\n",
              "                we           ne         exp1         exp2         exp3  \\\n",
              "count  5150.000000  5150.000000  5150.000000  5150.000000  5150.000000   \n",
              "mean      0.216117     0.227767    13.760583     3.018925     8.235867   \n",
              "std       0.411635     0.419432    10.609465     4.000904    14.488962   \n",
              "min       0.000000     0.000000     0.000000     0.000000     0.000000   \n",
              "25%       0.000000     0.000000     5.000000     0.250000     0.125000   \n",
              "50%       0.000000     0.000000    10.000000     1.000000     1.000000   \n",
              "75%       0.000000     0.000000    21.000000     4.410000     9.261000   \n",
              "max       1.000000     1.000000    47.000000    22.090000   103.823000   \n",
              "\n",
              "              exp4            occ         occ2            ind         ind2  \n",
              "count  5150.000000    5150.000000  5150.000000    5150.000000  5150.000000  \n",
              "mean     25.118038    5310.737476    11.670874    6629.154951    13.316893  \n",
              "std      53.530225   11874.356080     6.966684    5333.443992     5.701019  \n",
              "min       0.000000      10.000000     1.000000     370.000000     2.000000  \n",
              "25%       0.062500    1740.000000     5.000000    4880.000000     9.000000  \n",
              "50%       1.000000    4040.000000    13.000000    7370.000000    14.000000  \n",
              "75%      19.448100    5610.000000    17.000000    8190.000000    18.000000  \n",
              "max     487.968100  100000.000000    22.000000  100000.000000    22.000000  "
            ],
            "text/html": [
              "\n",
              "  <div id=\"df-08e629b9-c9b2-4d9a-b006-4e4aaac61bbc\" class=\"colab-df-container\">\n",
              "    <div>\n",
              "<style scoped>\n",
              "    .dataframe tbody tr th:only-of-type {\n",
              "        vertical-align: middle;\n",
              "    }\n",
              "\n",
              "    .dataframe tbody tr th {\n",
              "        vertical-align: top;\n",
              "    }\n",
              "\n",
              "    .dataframe thead th {\n",
              "        text-align: right;\n",
              "    }\n",
              "</style>\n",
              "<table border=\"1\" class=\"dataframe\">\n",
              "  <thead>\n",
              "    <tr style=\"text-align: right;\">\n",
              "      <th></th>\n",
              "      <th>wage</th>\n",
              "      <th>lwage</th>\n",
              "      <th>sex</th>\n",
              "      <th>shs</th>\n",
              "      <th>hsg</th>\n",
              "      <th>scl</th>\n",
              "      <th>clg</th>\n",
              "      <th>ad</th>\n",
              "      <th>mw</th>\n",
              "      <th>so</th>\n",
              "      <th>we</th>\n",
              "      <th>ne</th>\n",
              "      <th>exp1</th>\n",
              "      <th>exp2</th>\n",
              "      <th>exp3</th>\n",
              "      <th>exp4</th>\n",
              "      <th>occ</th>\n",
              "      <th>occ2</th>\n",
              "      <th>ind</th>\n",
              "      <th>ind2</th>\n",
              "    </tr>\n",
              "  </thead>\n",
              "  <tbody>\n",
              "    <tr>\n",
              "      <th>count</th>\n",
              "      <td>5150.000000</td>\n",
              "      <td>5150.000000</td>\n",
              "      <td>5150.000000</td>\n",
              "      <td>5150.000000</td>\n",
              "      <td>5150.000000</td>\n",
              "      <td>5150.000000</td>\n",
              "      <td>5150.000000</td>\n",
              "      <td>5150.000000</td>\n",
              "      <td>5150.000000</td>\n",
              "      <td>5150.000000</td>\n",
              "      <td>5150.000000</td>\n",
              "      <td>5150.000000</td>\n",
              "      <td>5150.000000</td>\n",
              "      <td>5150.000000</td>\n",
              "      <td>5150.000000</td>\n",
              "      <td>5150.000000</td>\n",
              "      <td>5150.000000</td>\n",
              "      <td>5150.000000</td>\n",
              "      <td>5150.000000</td>\n",
              "      <td>5150.000000</td>\n",
              "    </tr>\n",
              "    <tr>\n",
              "      <th>mean</th>\n",
              "      <td>23.410410</td>\n",
              "      <td>2.970787</td>\n",
              "      <td>0.444466</td>\n",
              "      <td>0.023301</td>\n",
              "      <td>0.243883</td>\n",
              "      <td>0.278058</td>\n",
              "      <td>0.317670</td>\n",
              "      <td>0.137087</td>\n",
              "      <td>0.259612</td>\n",
              "      <td>0.296505</td>\n",
              "      <td>0.216117</td>\n",
              "      <td>0.227767</td>\n",
              "      <td>13.760583</td>\n",
              "      <td>3.018925</td>\n",
              "      <td>8.235867</td>\n",
              "      <td>25.118038</td>\n",
              "      <td>5310.737476</td>\n",
              "      <td>11.670874</td>\n",
              "      <td>6629.154951</td>\n",
              "      <td>13.316893</td>\n",
              "    </tr>\n",
              "    <tr>\n",
              "      <th>std</th>\n",
              "      <td>21.003016</td>\n",
              "      <td>0.570385</td>\n",
              "      <td>0.496955</td>\n",
              "      <td>0.150872</td>\n",
              "      <td>0.429465</td>\n",
              "      <td>0.448086</td>\n",
              "      <td>0.465616</td>\n",
              "      <td>0.343973</td>\n",
              "      <td>0.438464</td>\n",
              "      <td>0.456761</td>\n",
              "      <td>0.411635</td>\n",
              "      <td>0.419432</td>\n",
              "      <td>10.609465</td>\n",
              "      <td>4.000904</td>\n",
              "      <td>14.488962</td>\n",
              "      <td>53.530225</td>\n",
              "      <td>11874.356080</td>\n",
              "      <td>6.966684</td>\n",
              "      <td>5333.443992</td>\n",
              "      <td>5.701019</td>\n",
              "    </tr>\n",
              "    <tr>\n",
              "      <th>min</th>\n",
              "      <td>3.021978</td>\n",
              "      <td>1.105912</td>\n",
              "      <td>0.000000</td>\n",
              "      <td>0.000000</td>\n",
              "      <td>0.000000</td>\n",
              "      <td>0.000000</td>\n",
              "      <td>0.000000</td>\n",
              "      <td>0.000000</td>\n",
              "      <td>0.000000</td>\n",
              "      <td>0.000000</td>\n",
              "      <td>0.000000</td>\n",
              "      <td>0.000000</td>\n",
              "      <td>0.000000</td>\n",
              "      <td>0.000000</td>\n",
              "      <td>0.000000</td>\n",
              "      <td>0.000000</td>\n",
              "      <td>10.000000</td>\n",
              "      <td>1.000000</td>\n",
              "      <td>370.000000</td>\n",
              "      <td>2.000000</td>\n",
              "    </tr>\n",
              "    <tr>\n",
              "      <th>25%</th>\n",
              "      <td>13.461538</td>\n",
              "      <td>2.599837</td>\n",
              "      <td>0.000000</td>\n",
              "      <td>0.000000</td>\n",
              "      <td>0.000000</td>\n",
              "      <td>0.000000</td>\n",
              "      <td>0.000000</td>\n",
              "      <td>0.000000</td>\n",
              "      <td>0.000000</td>\n",
              "      <td>0.000000</td>\n",
              "      <td>0.000000</td>\n",
              "      <td>0.000000</td>\n",
              "      <td>5.000000</td>\n",
              "      <td>0.250000</td>\n",
              "      <td>0.125000</td>\n",
              "      <td>0.062500</td>\n",
              "      <td>1740.000000</td>\n",
              "      <td>5.000000</td>\n",
              "      <td>4880.000000</td>\n",
              "      <td>9.000000</td>\n",
              "    </tr>\n",
              "    <tr>\n",
              "      <th>50%</th>\n",
              "      <td>19.230769</td>\n",
              "      <td>2.956512</td>\n",
              "      <td>0.000000</td>\n",
              "      <td>0.000000</td>\n",
              "      <td>0.000000</td>\n",
              "      <td>0.000000</td>\n",
              "      <td>0.000000</td>\n",
              "      <td>0.000000</td>\n",
              "      <td>0.000000</td>\n",
              "      <td>0.000000</td>\n",
              "      <td>0.000000</td>\n",
              "      <td>0.000000</td>\n",
              "      <td>10.000000</td>\n",
              "      <td>1.000000</td>\n",
              "      <td>1.000000</td>\n",
              "      <td>1.000000</td>\n",
              "      <td>4040.000000</td>\n",
              "      <td>13.000000</td>\n",
              "      <td>7370.000000</td>\n",
              "      <td>14.000000</td>\n",
              "    </tr>\n",
              "    <tr>\n",
              "      <th>75%</th>\n",
              "      <td>27.777778</td>\n",
              "      <td>3.324236</td>\n",
              "      <td>1.000000</td>\n",
              "      <td>0.000000</td>\n",
              "      <td>0.000000</td>\n",
              "      <td>1.000000</td>\n",
              "      <td>1.000000</td>\n",
              "      <td>0.000000</td>\n",
              "      <td>1.000000</td>\n",
              "      <td>1.000000</td>\n",
              "      <td>0.000000</td>\n",
              "      <td>0.000000</td>\n",
              "      <td>21.000000</td>\n",
              "      <td>4.410000</td>\n",
              "      <td>9.261000</td>\n",
              "      <td>19.448100</td>\n",
              "      <td>5610.000000</td>\n",
              "      <td>17.000000</td>\n",
              "      <td>8190.000000</td>\n",
              "      <td>18.000000</td>\n",
              "    </tr>\n",
              "    <tr>\n",
              "      <th>max</th>\n",
              "      <td>528.845673</td>\n",
              "      <td>6.270697</td>\n",
              "      <td>1.000000</td>\n",
              "      <td>1.000000</td>\n",
              "      <td>1.000000</td>\n",
              "      <td>1.000000</td>\n",
              "      <td>1.000000</td>\n",
              "      <td>1.000000</td>\n",
              "      <td>1.000000</td>\n",
              "      <td>1.000000</td>\n",
              "      <td>1.000000</td>\n",
              "      <td>1.000000</td>\n",
              "      <td>47.000000</td>\n",
              "      <td>22.090000</td>\n",
              "      <td>103.823000</td>\n",
              "      <td>487.968100</td>\n",
              "      <td>100000.000000</td>\n",
              "      <td>22.000000</td>\n",
              "      <td>100000.000000</td>\n",
              "      <td>22.000000</td>\n",
              "    </tr>\n",
              "  </tbody>\n",
              "</table>\n",
              "</div>\n",
              "    <div class=\"colab-df-buttons\">\n",
              "\n",
              "  <div class=\"colab-df-container\">\n",
              "    <button class=\"colab-df-convert\" onclick=\"convertToInteractive('df-08e629b9-c9b2-4d9a-b006-4e4aaac61bbc')\"\n",
              "            title=\"Convert this dataframe to an interactive table.\"\n",
              "            style=\"display:none;\">\n",
              "\n",
              "  <svg xmlns=\"http://www.w3.org/2000/svg\" height=\"24px\" viewBox=\"0 -960 960 960\">\n",
              "    <path d=\"M120-120v-720h720v720H120Zm60-500h600v-160H180v160Zm220 220h160v-160H400v160Zm0 220h160v-160H400v160ZM180-400h160v-160H180v160Zm440 0h160v-160H620v160ZM180-180h160v-160H180v160Zm440 0h160v-160H620v160Z\"/>\n",
              "  </svg>\n",
              "    </button>\n",
              "\n",
              "  <style>\n",
              "    .colab-df-container {\n",
              "      display:flex;\n",
              "      gap: 12px;\n",
              "    }\n",
              "\n",
              "    .colab-df-convert {\n",
              "      background-color: #E8F0FE;\n",
              "      border: none;\n",
              "      border-radius: 50%;\n",
              "      cursor: pointer;\n",
              "      display: none;\n",
              "      fill: #1967D2;\n",
              "      height: 32px;\n",
              "      padding: 0 0 0 0;\n",
              "      width: 32px;\n",
              "    }\n",
              "\n",
              "    .colab-df-convert:hover {\n",
              "      background-color: #E2EBFA;\n",
              "      box-shadow: 0px 1px 2px rgba(60, 64, 67, 0.3), 0px 1px 3px 1px rgba(60, 64, 67, 0.15);\n",
              "      fill: #174EA6;\n",
              "    }\n",
              "\n",
              "    .colab-df-buttons div {\n",
              "      margin-bottom: 4px;\n",
              "    }\n",
              "\n",
              "    [theme=dark] .colab-df-convert {\n",
              "      background-color: #3B4455;\n",
              "      fill: #D2E3FC;\n",
              "    }\n",
              "\n",
              "    [theme=dark] .colab-df-convert:hover {\n",
              "      background-color: #434B5C;\n",
              "      box-shadow: 0px 1px 3px 1px rgba(0, 0, 0, 0.15);\n",
              "      filter: drop-shadow(0px 1px 2px rgba(0, 0, 0, 0.3));\n",
              "      fill: #FFFFFF;\n",
              "    }\n",
              "  </style>\n",
              "\n",
              "    <script>\n",
              "      const buttonEl =\n",
              "        document.querySelector('#df-08e629b9-c9b2-4d9a-b006-4e4aaac61bbc button.colab-df-convert');\n",
              "      buttonEl.style.display =\n",
              "        google.colab.kernel.accessAllowed ? 'block' : 'none';\n",
              "\n",
              "      async function convertToInteractive(key) {\n",
              "        const element = document.querySelector('#df-08e629b9-c9b2-4d9a-b006-4e4aaac61bbc');\n",
              "        const dataTable =\n",
              "          await google.colab.kernel.invokeFunction('convertToInteractive',\n",
              "                                                    [key], {});\n",
              "        if (!dataTable) return;\n",
              "\n",
              "        const docLinkHtml = 'Like what you see? Visit the ' +\n",
              "          '<a target=\"_blank\" href=https://colab.research.google.com/notebooks/data_table.ipynb>data table notebook</a>'\n",
              "          + ' to learn more about interactive tables.';\n",
              "        element.innerHTML = '';\n",
              "        dataTable['output_type'] = 'display_data';\n",
              "        await google.colab.output.renderOutput(dataTable, element);\n",
              "        const docLink = document.createElement('div');\n",
              "        docLink.innerHTML = docLinkHtml;\n",
              "        element.appendChild(docLink);\n",
              "      }\n",
              "    </script>\n",
              "  </div>\n",
              "\n",
              "\n",
              "    <div id=\"df-bdd68679-c2ff-422b-985f-70f9ceff043b\">\n",
              "      <button class=\"colab-df-quickchart\" onclick=\"quickchart('df-bdd68679-c2ff-422b-985f-70f9ceff043b')\"\n",
              "                title=\"Suggest charts\"\n",
              "                style=\"display:none;\">\n",
              "\n",
              "<svg xmlns=\"http://www.w3.org/2000/svg\" height=\"24px\"viewBox=\"0 0 24 24\"\n",
              "     width=\"24px\">\n",
              "    <g>\n",
              "        <path d=\"M19 3H5c-1.1 0-2 .9-2 2v14c0 1.1.9 2 2 2h14c1.1 0 2-.9 2-2V5c0-1.1-.9-2-2-2zM9 17H7v-7h2v7zm4 0h-2V7h2v10zm4 0h-2v-4h2v4z\"/>\n",
              "    </g>\n",
              "</svg>\n",
              "      </button>\n",
              "\n",
              "<style>\n",
              "  .colab-df-quickchart {\n",
              "      --bg-color: #E8F0FE;\n",
              "      --fill-color: #1967D2;\n",
              "      --hover-bg-color: #E2EBFA;\n",
              "      --hover-fill-color: #174EA6;\n",
              "      --disabled-fill-color: #AAA;\n",
              "      --disabled-bg-color: #DDD;\n",
              "  }\n",
              "\n",
              "  [theme=dark] .colab-df-quickchart {\n",
              "      --bg-color: #3B4455;\n",
              "      --fill-color: #D2E3FC;\n",
              "      --hover-bg-color: #434B5C;\n",
              "      --hover-fill-color: #FFFFFF;\n",
              "      --disabled-bg-color: #3B4455;\n",
              "      --disabled-fill-color: #666;\n",
              "  }\n",
              "\n",
              "  .colab-df-quickchart {\n",
              "    background-color: var(--bg-color);\n",
              "    border: none;\n",
              "    border-radius: 50%;\n",
              "    cursor: pointer;\n",
              "    display: none;\n",
              "    fill: var(--fill-color);\n",
              "    height: 32px;\n",
              "    padding: 0;\n",
              "    width: 32px;\n",
              "  }\n",
              "\n",
              "  .colab-df-quickchart:hover {\n",
              "    background-color: var(--hover-bg-color);\n",
              "    box-shadow: 0 1px 2px rgba(60, 64, 67, 0.3), 0 1px 3px 1px rgba(60, 64, 67, 0.15);\n",
              "    fill: var(--button-hover-fill-color);\n",
              "  }\n",
              "\n",
              "  .colab-df-quickchart-complete:disabled,\n",
              "  .colab-df-quickchart-complete:disabled:hover {\n",
              "    background-color: var(--disabled-bg-color);\n",
              "    fill: var(--disabled-fill-color);\n",
              "    box-shadow: none;\n",
              "  }\n",
              "\n",
              "  .colab-df-spinner {\n",
              "    border: 2px solid var(--fill-color);\n",
              "    border-color: transparent;\n",
              "    border-bottom-color: var(--fill-color);\n",
              "    animation:\n",
              "      spin 1s steps(1) infinite;\n",
              "  }\n",
              "\n",
              "  @keyframes spin {\n",
              "    0% {\n",
              "      border-color: transparent;\n",
              "      border-bottom-color: var(--fill-color);\n",
              "      border-left-color: var(--fill-color);\n",
              "    }\n",
              "    20% {\n",
              "      border-color: transparent;\n",
              "      border-left-color: var(--fill-color);\n",
              "      border-top-color: var(--fill-color);\n",
              "    }\n",
              "    30% {\n",
              "      border-color: transparent;\n",
              "      border-left-color: var(--fill-color);\n",
              "      border-top-color: var(--fill-color);\n",
              "      border-right-color: var(--fill-color);\n",
              "    }\n",
              "    40% {\n",
              "      border-color: transparent;\n",
              "      border-right-color: var(--fill-color);\n",
              "      border-top-color: var(--fill-color);\n",
              "    }\n",
              "    60% {\n",
              "      border-color: transparent;\n",
              "      border-right-color: var(--fill-color);\n",
              "    }\n",
              "    80% {\n",
              "      border-color: transparent;\n",
              "      border-right-color: var(--fill-color);\n",
              "      border-bottom-color: var(--fill-color);\n",
              "    }\n",
              "    90% {\n",
              "      border-color: transparent;\n",
              "      border-bottom-color: var(--fill-color);\n",
              "    }\n",
              "  }\n",
              "</style>\n",
              "\n",
              "      <script>\n",
              "        async function quickchart(key) {\n",
              "          const quickchartButtonEl =\n",
              "            document.querySelector('#' + key + ' button');\n",
              "          quickchartButtonEl.disabled = true;  // To prevent multiple clicks.\n",
              "          quickchartButtonEl.classList.add('colab-df-spinner');\n",
              "          try {\n",
              "            const charts = await google.colab.kernel.invokeFunction(\n",
              "                'suggestCharts', [key], {});\n",
              "          } catch (error) {\n",
              "            console.error('Error during call to suggestCharts:', error);\n",
              "          }\n",
              "          quickchartButtonEl.classList.remove('colab-df-spinner');\n",
              "          quickchartButtonEl.classList.add('colab-df-quickchart-complete');\n",
              "        }\n",
              "        (() => {\n",
              "          let quickchartButtonEl =\n",
              "            document.querySelector('#df-bdd68679-c2ff-422b-985f-70f9ceff043b button');\n",
              "          quickchartButtonEl.style.display =\n",
              "            google.colab.kernel.accessAllowed ? 'block' : 'none';\n",
              "        })();\n",
              "      </script>\n",
              "    </div>\n",
              "    </div>\n",
              "  </div>\n"
            ],
            "application/vnd.google.colaboratory.intrinsic+json": {
              "type": "dataframe",
              "summary": "{\n  \"name\": \"data\",\n  \"rows\": 8,\n  \"fields\": [\n    {\n      \"column\": \"wage\",\n      \"properties\": {\n        \"dtype\": \"number\",\n        \"std\": 1797.5653203033053,\n        \"min\": 3.02197802197802,\n        \"max\": 5150.0,\n        \"num_unique_values\": 8,\n        \"samples\": [\n          23.410410037881213,\n          19.2307692307692,\n          5150.0\n        ],\n        \"semantic_type\": \"\",\n        \"description\": \"\"\n      }\n    },\n    {\n      \"column\": \"lwage\",\n      \"properties\": {\n        \"dtype\": \"number\",\n        \"std\": 1819.8007879738893,\n        \"min\": 0.570384782992647,\n        \"max\": 5150.0,\n        \"num_unique_values\": 8,\n        \"samples\": [\n          2.9707867022915577,\n          2.95651156040071,\n          5150.0\n        ],\n        \"semantic_type\": \"\",\n        \"description\": \"\"\n      }\n    },\n    {\n      \"column\": \"sex\",\n      \"properties\": {\n        \"dtype\": \"number\",\n        \"std\": 1820.6514447894967,\n        \"min\": 0.0,\n        \"max\": 5150.0,\n        \"num_unique_values\": 5,\n        \"samples\": [\n          0.4444660194174757,\n          1.0,\n          0.4969546570483461\n        ],\n        \"semantic_type\": \"\",\n        \"description\": \"\"\n      }\n    },\n    {\n      \"column\": \"shs\",\n      \"properties\": {\n        \"dtype\": \"number\",\n        \"std\": 1820.7406892668737,\n        \"min\": 0.0,\n        \"max\": 5150.0,\n        \"num_unique_values\": 5,\n        \"samples\": [\n          0.02330097087378641,\n          1.0,\n          0.15087231530138343\n        ],\n        \"semantic_type\": \"\",\n        \"description\": \"\"\n      }\n    },\n    {\n      \"column\": \"hsg\",\n      \"properties\": {\n        \"dtype\": \"number\",\n        \"std\": 1820.7154778028057,\n        \"min\": 0.0,\n        \"max\": 5150.0,\n        \"num_unique_values\": 5,\n        \"samples\": [\n          0.24388349514563107,\n          1.0,\n          0.4294649573160244\n        ],\n        \"semantic_type\": \"\",\n        \"description\": \"\"\n      }\n    },\n    {\n      \"column\": \"scl\",\n      \"properties\": {\n        \"dtype\": \"number\",\n        \"std\": 1820.662318212018,\n        \"min\": 0.0,\n        \"max\": 5150.0,\n        \"num_unique_values\": 5,\n        \"samples\": [\n          0.27805825242718446,\n          1.0,\n          0.4480857588192388\n        ],\n        \"semantic_type\": \"\",\n        \"description\": \"\"\n      }\n    },\n    {\n      \"column\": \"clg\",\n      \"properties\": {\n        \"dtype\": \"number\",\n        \"std\": 1820.6594319236465,\n        \"min\": 0.0,\n        \"max\": 5150.0,\n        \"num_unique_values\": 5,\n        \"samples\": [\n          0.31766990291262137,\n          1.0,\n          0.46561554136710726\n        ],\n        \"semantic_type\": \"\",\n        \"description\": \"\"\n      }\n    },\n    {\n      \"column\": \"ad\",\n      \"properties\": {\n        \"dtype\": \"number\",\n        \"std\": 1820.7251890277164,\n        \"min\": 0.0,\n        \"max\": 5150.0,\n        \"num_unique_values\": 5,\n        \"samples\": [\n          0.1370873786407767,\n          1.0,\n          0.3439729691578766\n        ],\n        \"semantic_type\": \"\",\n        \"description\": \"\"\n      }\n    },\n    {\n      \"column\": \"mw\",\n      \"properties\": {\n        \"dtype\": \"number\",\n        \"std\": 1820.6637360024881,\n        \"min\": 0.0,\n        \"max\": 5150.0,\n        \"num_unique_values\": 5,\n        \"samples\": [\n          0.2596116504854369,\n          1.0,\n          0.4384641053319788\n        ],\n        \"semantic_type\": \"\",\n        \"description\": \"\"\n      }\n    },\n    {\n      \"column\": \"so\",\n      \"properties\": {\n        \"dtype\": \"number\",\n        \"std\": 1820.660948263692,\n        \"min\": 0.0,\n        \"max\": 5150.0,\n        \"num_unique_values\": 5,\n        \"samples\": [\n          0.29650485436893204,\n          1.0,\n          0.4567605898390248\n        ],\n        \"semantic_type\": \"\",\n        \"description\": \"\"\n      }\n    },\n    {\n      \"column\": \"we\",\n      \"properties\": {\n        \"dtype\": \"number\",\n        \"std\": 1820.7177805695885,\n        \"min\": 0.0,\n        \"max\": 5150.0,\n        \"num_unique_values\": 5,\n        \"samples\": [\n          0.21611650485436892,\n          1.0,\n          0.4116346228750542\n        ],\n        \"semantic_type\": \"\",\n        \"description\": \"\"\n      }\n    },\n    {\n      \"column\": \"ne\",\n      \"properties\": {\n        \"dtype\": \"number\",\n        \"std\": 1820.7167983955987,\n        \"min\": 0.0,\n        \"max\": 5150.0,\n        \"num_unique_values\": 5,\n        \"samples\": [\n          0.22776699029126213,\n          1.0,\n          0.41943217365669044\n        ],\n        \"semantic_type\": \"\",\n        \"description\": \"\"\n      }\n    },\n    {\n      \"column\": \"exp1\",\n      \"properties\": {\n        \"dtype\": \"number\",\n        \"std\": 1815.4332201275033,\n        \"min\": 0.0,\n        \"max\": 5150.0,\n        \"num_unique_values\": 8,\n        \"samples\": [\n          13.760582524271845,\n          10.0,\n          5150.0\n        ],\n        \"semantic_type\": \"\",\n        \"description\": \"\"\n      }\n    },\n    {\n      \"column\": \"exp2\",\n      \"properties\": {\n        \"dtype\": \"number\",\n        \"std\": 1819.057991163466,\n        \"min\": 0.0,\n        \"max\": 5150.0,\n        \"num_unique_values\": 8,\n        \"samples\": [\n          3.0189252427184465,\n          1.0,\n          5150.0\n        ],\n        \"semantic_type\": \"\",\n        \"description\": \"\"\n      }\n    },\n    {\n      \"column\": \"exp3\",\n      \"properties\": {\n        \"dtype\": \"number\",\n        \"std\": 1814.2170720867746,\n        \"min\": 0.0,\n        \"max\": 5150.0,\n        \"num_unique_values\": 8,\n        \"samples\": [\n          8.23586713592233,\n          1.0,\n          5150.0\n        ],\n        \"semantic_type\": \"\",\n        \"description\": \"\"\n      }\n    },\n    {\n      \"column\": \"exp4\",\n      \"properties\": {\n        \"dtype\": \"number\",\n        \"std\": 1798.8154942594686,\n        \"min\": 0.0,\n        \"max\": 5150.0,\n        \"num_unique_values\": 8,\n        \"samples\": [\n          25.118037682038835,\n          1.0,\n          5150.0\n        ],\n        \"semantic_type\": \"\",\n        \"description\": \"\"\n      }\n    },\n    {\n      \"column\": \"occ\",\n      \"properties\": {\n        \"dtype\": \"number\",\n        \"std\": 33829.221854158444,\n        \"min\": 10.0,\n        \"max\": 100000.0,\n        \"num_unique_values\": 8,\n        \"samples\": [\n          5310.737475728155,\n          4040.0,\n          5150.0\n        ],\n        \"semantic_type\": \"\",\n        \"description\": \"\"\n      }\n    },\n    {\n      \"column\": \"occ2\",\n      \"properties\": {\n        \"dtype\": \"number\",\n        \"std\": 1816.9415126732254,\n        \"min\": 1.0,\n        \"max\": 5150.0,\n        \"num_unique_values\": 8,\n        \"samples\": [\n          11.670873786407768,\n          13.0,\n          5150.0\n        ],\n        \"semantic_type\": \"\",\n        \"description\": \"\"\n      }\n    },\n    {\n      \"column\": \"ind\",\n      \"properties\": {\n        \"dtype\": \"number\",\n        \"std\": 33522.75923644105,\n        \"min\": 370.0,\n        \"max\": 100000.0,\n        \"num_unique_values\": 8,\n        \"samples\": [\n          6629.15495145631,\n          7370.0,\n          5150.0\n        ],\n        \"semantic_type\": \"\",\n        \"description\": \"\"\n      }\n    },\n    {\n      \"column\": \"ind2\",\n      \"properties\": {\n        \"dtype\": \"number\",\n        \"std\": 1816.5678353532396,\n        \"min\": 2.0,\n        \"max\": 5150.0,\n        \"num_unique_values\": 8,\n        \"samples\": [\n          13.316893203883495,\n          14.0,\n          5150.0\n        ],\n        \"semantic_type\": \"\",\n        \"description\": \"\"\n      }\n    }\n  ]\n}"
            }
          },
          "metadata": {},
          "execution_count": 10
        }
      ],
      "source": [
        "data.describe()"
      ]
    },
    {
      "cell_type": "code",
      "execution_count": 11,
      "metadata": {
        "id": "fUxf95F1B2EE",
        "outputId": "13964882-a7b3-41f4-a488-d1140fd32103",
        "colab": {
          "base_uri": "https://localhost:8080/"
        }
      },
      "outputs": [
        {
          "output_type": "execute_result",
          "data": {
            "text/plain": [
              "Index(['sex', 'shs', 'hsg', 'scl', 'clg', 'ad', 'mw', 'so', 'we', 'ne', 'exp1',\n",
              "       'exp2', 'exp3', 'exp4', 'occ', 'occ2', 'ind', 'ind2'],\n",
              "      dtype='object')"
            ]
          },
          "metadata": {},
          "execution_count": 11
        }
      ],
      "source": [
        "y = np.log(data['wage']).values #.values 返回Numpy数组而不是series\n",
        "Z = data.drop(['wage', 'lwage'], axis=1)\n",
        "Z.columns"
      ]
    },
    {
      "cell_type": "markdown",
      "metadata": {
        "id": "v2E-oxA8DQqH"
      },
      "source": [
        "The following figure shows the weekly wage distribution from the US survey data."
      ]
    },
    {
      "cell_type": "code",
      "execution_count": 12,
      "metadata": {
        "id": "4QJc_mnlB2KN",
        "outputId": "3c165bc8-dc26-454f-9b78-f96ac75d2b8e",
        "colab": {
          "base_uri": "https://localhost:8080/",
          "height": 490
        }
      },
      "outputs": [
        {
          "output_type": "execute_result",
          "data": {
            "text/plain": [
              "(0.0, 3000.0)"
            ]
          },
          "metadata": {},
          "execution_count": 12
        },
        {
          "output_type": "display_data",
          "data": {
            "text/plain": [
              "<Figure size 640x480 with 1 Axes>"
            ],
            "image/png": "[encoded data removed]"
          },
          "metadata": {}
        }
      ],
      "source": [
        "plt.hist(data.wage, bins=np.arange(0, 350, 20))\n",
        "plt.xlabel('hourly wage')\n",
        "plt.ylabel('Frequency')\n",
        "plt.title('Empirical wage distribution from the US survey data')\n",
        "plt.ylim((0, 3000))"
      ]
    },
    {
      "cell_type": "markdown",
      "metadata": {
        "id": "TvMhq0RNDL43"
      },
      "source": [
        "Wages show a high degree of skewness. Hence, wages are transformed in almost all studies by\n",
        "the logarithm."
      ]
    },
    {
      "cell_type": "markdown",
      "metadata": {
        "id": "xBL1FmvgDV3f"
      },
      "source": [
        "## Analysis"
      ]
    },
    {
      "cell_type": "markdown",
      "metadata": {
        "id": "nDbY6BAuDYVD"
      },
      "source": [
        "Due to the skewness of the data, we are considering log wages which leads to the following regression model\n",
        "\n",
        "$$\\log(\\operatorname{wage}) = g(Z) + \\epsilon.$$"
      ]
    },
    {
      "cell_type": "markdown",
      "metadata": {
        "id": "jNACoPwVDdpK"
      },
      "source": [
        "In this notebook, we will evaluate *linear* prediction rules. In later notebooks, we will also utilize nonlinear prediction methods. In linear models, we estimate the prediction rule of the form\n",
        "\n",
        "$$\\hat g(Z) = \\hat \\beta'X.$$\n",
        "\n",
        "Again, we generate $X$ in three ways:\n",
        "\n",
        "1. Basic Model:   $X$ consists of a set of raw regressors (e.g. gender, experience, education indicators, regional indicators).\n",
        "\n",
        "\n",
        "2. Flexible Model:  $X$ consists of all raw regressors from the basic model plus occupation and industry indicators, transformations (e.g., $\\operatorname{exp}^2$ and $\\operatorname{exp}^3$) and additional two-way interactions.\n",
        "\n",
        "3. Extra Flexible Model: $X$ takes the flexible model and takes all pairwise interactions."
      ]
    },
    {
      "cell_type": "markdown",
      "metadata": {
        "id": "iDM3apFhDlgf"
      },
      "source": [
        "To evaluate the out-of-sample performance, we split the data first."
      ]
    },
    {
      "cell_type": "markdown",
      "metadata": {
        "id": "PPt0pZtgOMSn"
      },
      "source": [
        "As known from our first lab, the basic model consists of $51$ regressors, and the flexible model has $246$ regressors. Let us fit our models to the training sample using the two different model specifications. We are starting by running a simple ols regression and computing the $R^2$ on the test sample."
      ]
    },
    {
      "cell_type": "markdown",
      "metadata": {
        "id": "n8Yzwj-tNK9v"
      },
      "source": [
        "### Low dimensional specification (basic)"
      ]
    },
    {
      "cell_type": "code",
      "execution_count": null,
      "metadata": {
        "id": "H133LWt2NK9w"
      },
      "outputs": [],
      "source": [
        "Zbase = patsy.dmatrix('0 + sex + exp1 + shs + hsg+ scl + clg + mw + so + we + C(occ2) + C(ind2)',\n",
        "                      Z, return_type='dataframe').values"
      ]
    },
    {
      "cell_type": "code",
      "execution_count": null,
      "metadata": {
        "id": "1cGOSULrNK9w"
      },
      "outputs": [],
      "source": [
        "X_train, X_test, y_train, y_test = train_test_split(Zbase, y, test_size=0.25, random_state=123)"
      ]
    },
    {
      "cell_type": "code",
      "execution_count": null,
      "metadata": {
        "id": "mYNA5NqJNK9w"
      },
      "outputs": [],
      "source": [
        "lr_base = LinearRegression().fit(X_train, y_train)"
      ]
    },
    {
      "cell_type": "markdown",
      "metadata": {
        "id": "8yZ-FNUcNK9w"
      },
      "source": [
        "Let's calculate R-squared on the test set"
      ]
    },
    {
      "cell_type": "code",
      "execution_count": null,
      "metadata": {
        "id": "syCxRYoXNK9x"
      },
      "outputs": [],
      "source": [
        "r2_base = 1 - np.mean((y_test - lr_base.predict(X_test))**2) / np.var(y_test)\n",
        "print(f'{r2_base:.4f}')"
      ]
    },
    {
      "cell_type": "markdown",
      "metadata": {
        "id": "7xxH378TNK9y"
      },
      "source": [
        "In fact `sklearn` provides an implementation"
      ]
    },
    {
      "cell_type": "code",
      "execution_count": null,
      "metadata": {
        "id": "dFdiLG1PNK9y"
      },
      "outputs": [],
      "source": [
        "print(f'{r2_score(y_test, lr_base.predict(X_test)):.4f}')"
      ]
    },
    {
      "cell_type": "markdown",
      "metadata": {
        "id": "RuM-FygCNK9y"
      },
      "source": [
        "Since out of sample performance can be vary for different train-test splits, it is more stable to look at average performance across multiple splits, using K-fold cross validation."
      ]
    },
    {
      "cell_type": "code",
      "execution_count": null,
      "metadata": {
        "id": "110qB5jmNK9z"
      },
      "outputs": [],
      "source": [
        "cv = KFold(n_splits=5, shuffle=True, random_state=123)\n",
        "rsquares = cross_val_score(LinearRegression(), Zbase, y, scoring='r2', cv=cv)\n",
        "print(f'{np.mean(rsquares):.4f}')"
      ]
    },
    {
      "cell_type": "markdown",
      "metadata": {
        "id": "J5fn7JDiNK9z"
      },
      "source": [
        "### High-dimensional specification (flexible)"
      ]
    },
    {
      "cell_type": "markdown",
      "metadata": {
        "id": "jX09oKqhRJgz"
      },
      "source": [
        "We repeat the same procedure for the flexible model."
      ]
    },
    {
      "cell_type": "code",
      "execution_count": null,
      "metadata": {
        "id": "VMLyFWPJNK9z"
      },
      "outputs": [],
      "source": [
        "Zflex = patsy.dmatrix('0 + sex + (exp1+exp2+exp3+exp4)*(shs+hsg+scl+clg+C(occ2)+C(ind2)+mw+so+we)',\n",
        "                      Z, return_type='dataframe').values"
      ]
    },
    {
      "cell_type": "code",
      "execution_count": null,
      "metadata": {
        "id": "wV05akw4ZzBP"
      },
      "outputs": [],
      "source": [
        "Zflex.shape"
      ]
    },
    {
      "cell_type": "code",
      "execution_count": null,
      "metadata": {
        "id": "bR37N6OPNK9z"
      },
      "outputs": [],
      "source": [
        "X_train, X_test, y_train, y_test = train_test_split(Zflex, y, test_size=0.25, random_state=123)"
      ]
    },
    {
      "cell_type": "code",
      "execution_count": null,
      "metadata": {
        "id": "5Yh0GAGsNK9z"
      },
      "outputs": [],
      "source": [
        "lr_flex = LinearRegression().fit(X_train, y_train)"
      ]
    },
    {
      "cell_type": "code",
      "execution_count": null,
      "metadata": {
        "id": "3Ou7AeiONK90"
      },
      "outputs": [],
      "source": [
        "print(f'{r2_score(y_test, lr_flex.predict(X_test)):.4f}')"
      ]
    },
    {
      "cell_type": "markdown",
      "metadata": {
        "id": "VAvIPK3fNK90"
      },
      "source": [
        "However, OLS can be quite unstable for such high-dimensional problems, and it really matters what solution is being returned among the multitude of solutions to the least squares objective -- the solution is non-unique in high-dimensional settings. For instance, we see that the `sklearn` implementation returns a numerically unstable solution whose error blows up in some cases."
      ]
    },
    {
      "cell_type": "code",
      "execution_count": null,
      "metadata": {
        "id": "qoP4kyMTNK90"
      },
      "outputs": [],
      "source": [
        "cv = KFold(n_splits=5, shuffle=True, random_state=123)\n",
        "rsquares = cross_val_score(LinearRegression(), Zflex, y, scoring='r2', cv=cv, n_jobs=-1)\n",
        "print(f'{np.mean(rsquares):.4f}')"
      ]
    },
    {
      "cell_type": "markdown",
      "metadata": {
        "id": "bGMdlPl4NK90"
      },
      "source": [
        "`sklearn`'s implementation uses the least squares solver from `scipy.linalg.lstsq`. If, for instance, we instead use a different pseudo-inverse based implementation, we get a different result"
      ]
    },
    {
      "cell_type": "code",
      "execution_count": null,
      "metadata": {
        "id": "xR5Q4Ub8NK91"
      },
      "outputs": [],
      "source": [
        "class MyOLS(BaseEstimator):\n",
        "\n",
        "    def fit(self, X, y):\n",
        "        X = np.hstack([np.ones((X.shape[0], 1)), X])\n",
        "        CXX = (X.T @ X) / X.shape[0]\n",
        "        CXy = (X.T @ y) / X.shape[0]\n",
        "        self.coef_ = np.linalg.pinv(CXX) @ CXy\n",
        "        return self\n",
        "\n",
        "    def predict(self, X):\n",
        "        X = np.hstack([np.ones((X.shape[0], 1)), X])\n",
        "        return X @ self.coef_"
      ]
    },
    {
      "cell_type": "code",
      "execution_count": null,
      "metadata": {
        "id": "Up83GJNTNK91"
      },
      "outputs": [],
      "source": [
        "cv = KFold(n_splits=5, shuffle=True, random_state=123)\n",
        "rsquares = cross_val_score(MyOLS(), Zflex, y, scoring='r2', cv=cv, n_jobs=-1)\n",
        "print(f'{np.mean(rsquares):.4f}')"
      ]
    },
    {
      "cell_type": "markdown",
      "metadata": {
        "id": "LxHM8DZNNK91"
      },
      "source": [
        "This procedure also recovers the solution provided by `statsmodels.api.OLS`"
      ]
    },
    {
      "cell_type": "code",
      "execution_count": null,
      "metadata": {
        "id": "8j2GR643NK91"
      },
      "outputs": [],
      "source": [
        "class StatsModelsOLS(BaseEstimator):\n",
        "\n",
        "    def fit(self, X, y):\n",
        "        X = np.hstack([np.ones((X.shape[0], 1)), X])\n",
        "        self.ols_ = sm.OLS(y, X).fit()\n",
        "        return self\n",
        "\n",
        "    def predict(self, X):\n",
        "        X = np.hstack([np.ones((X.shape[0], 1)), X])\n",
        "        return self.ols_.predict(X)"
      ]
    },
    {
      "cell_type": "code",
      "execution_count": null,
      "metadata": {
        "id": "wFSNrOSjNK92"
      },
      "outputs": [],
      "source": [
        "cv = KFold(n_splits=5, shuffle=True, random_state=123)\n",
        "rsquares = cross_val_score(StatsModelsOLS(), Zflex, y, scoring='r2', cv=cv, n_jobs=-1)\n",
        "print(f'{np.mean(rsquares):.4f}')"
      ]
    },
    {
      "cell_type": "markdown",
      "metadata": {
        "id": "jq5TwDZFNK92"
      },
      "source": [
        "We can also choose different solvers by using `sklearn.linear_model.Ridge` which allows for no penalty and a multitude of solvers. We see that the `lsqr` solver is more stable than solvers based on singular value decompositions of the covariance matrix $E_n[X X']$."
      ]
    },
    {
      "cell_type": "code",
      "execution_count": null,
      "metadata": {
        "id": "-AQ6S9ICNK92"
      },
      "outputs": [],
      "source": [
        "cv = KFold(n_splits=5, shuffle=True, random_state=123)\n",
        "rsquares = cross_val_score(Ridge(alpha=0.0, solver='lsqr'), Zflex, y, scoring='r2', cv=cv, n_jobs=-1)\n",
        "print(f'{np.mean(rsquares):.4f}')"
      ]
    },
    {
      "cell_type": "code",
      "execution_count": null,
      "metadata": {
        "id": "-upj7kyMNK92"
      },
      "outputs": [],
      "source": [
        "cv = KFold(n_splits=5, shuffle=True, random_state=123)\n",
        "rsquares = cross_val_score(Ridge(alpha=0.0, solver='cholesky'), Zflex, y, scoring='r2', cv=cv, n_jobs=-1)\n",
        "print(f'{np.mean(rsquares):.4f}')"
      ]
    },
    {
      "cell_type": "code",
      "execution_count": null,
      "metadata": {
        "id": "41Cco4TGNK92"
      },
      "outputs": [],
      "source": [
        "cv = KFold(n_splits=5, shuffle=True, random_state=123)\n",
        "rsquares = cross_val_score(Ridge(alpha=0.0, solver='svd'), Zflex, y, scoring='r2', cv=cv, n_jobs=-1)\n",
        "print(f'{np.mean(rsquares):.4f}')"
      ]
    },
    {
      "cell_type": "markdown",
      "metadata": {
        "id": "JKqXwJhqNK93"
      },
      "source": [
        "### Penalized regressions (flexible model)"
      ]
    },
    {
      "cell_type": "markdown",
      "metadata": {
        "id": "-4QL8R2OUbT_"
      },
      "source": [
        "We observe that ols regression works better for the basic model with smaller $p/n$ ratio. We proceed by running penalized regressions first for the flexible model, tuned via cross-validation."
      ]
    },
    {
      "cell_type": "markdown",
      "metadata": {
        "id": "9vwdoHe_NK93"
      },
      "source": [
        "First we try a pure `l1` penalty, tuned using cross-validation"
      ]
    },
    {
      "cell_type": "code",
      "execution_count": null,
      "metadata": {
        "id": "ANWxIjyqNK93"
      },
      "outputs": [],
      "source": [
        "cv = KFold(n_splits=5, shuffle=True, random_state=123)\n",
        "rsquares = cross_val_score(LassoCV(cv=cv), Zflex, y, scoring='r2', cv=cv, n_jobs=-1)\n",
        "print('Flexible model R^2 (Lasso): ', f'{np.mean(rsquares):.4f}')"
      ]
    },
    {
      "cell_type": "markdown",
      "metadata": {
        "id": "p7fdRRERNK94"
      },
      "source": [
        "Oops! For penalized regressions it is important that our features have the same standard deviation, so that we are symmetrically penalizing them"
      ]
    },
    {
      "cell_type": "code",
      "execution_count": null,
      "metadata": {
        "id": "bbslexlGNK94"
      },
      "outputs": [],
      "source": [
        "from sklearn.preprocessing import StandardScaler\n",
        "Zflex = StandardScaler().fit_transform(Zflex)"
      ]
    },
    {
      "cell_type": "markdown",
      "metadata": {
        "id": "B4B068QgNK94"
      },
      "source": [
        "Let's try again!"
      ]
    },
    {
      "cell_type": "code",
      "execution_count": null,
      "metadata": {
        "id": "3HhaI0CDNK95"
      },
      "outputs": [],
      "source": [
        "cv = KFold(n_splits=5, shuffle=True, random_state=123)\n",
        "rsquares = cross_val_score(LassoCV(cv=cv), Zflex, y, scoring='r2', cv=cv, n_jobs=-1)\n",
        "print('Flexible model R^2 (Lasso): ', f'{np.mean(rsquares):.4f}')"
      ]
    },
    {
      "cell_type": "markdown",
      "metadata": {
        "id": "dDpwnCFFNK95"
      },
      "source": [
        "Then we try a pure `l2` penalty, tuned using cross-validation"
      ]
    },
    {
      "cell_type": "code",
      "execution_count": null,
      "metadata": {
        "id": "s_G1exWNNK96"
      },
      "outputs": [],
      "source": [
        "cv = KFold(n_splits=5, shuffle=True, random_state=123)\n",
        "rsquares = cross_val_score(RidgeCV(cv=cv), Zflex, y, scoring='r2', cv=cv, n_jobs=-1)\n",
        "print('Flexible model R^2 (Ridge): ', f'{np.mean(rsquares):.4f}')"
      ]
    },
    {
      "cell_type": "markdown",
      "metadata": {
        "id": "VHGkDj4WNK96"
      },
      "source": [
        "Finally, we try an equal combination of the two penalties, with the overall weight tuned using cross validation"
      ]
    },
    {
      "cell_type": "code",
      "execution_count": null,
      "metadata": {
        "id": "e9ouiPUcNK97"
      },
      "outputs": [],
      "source": [
        "cv = KFold(n_splits=5, shuffle=True, random_state=123)\n",
        "rsquares = cross_val_score(ElasticNetCV(cv=cv), Zflex, y, scoring='r2', cv=cv, n_jobs=-1)\n",
        "print('Flexible model R^2 (Elastic Net): ', f'{np.mean(rsquares):.4f}')"
      ]
    },
    {
      "cell_type": "markdown",
      "metadata": {
        "id": "BH9DIjrjNK97"
      },
      "source": [
        "We can also try a variant of the `l1` penalty, where the weight is chosen based on theoretical derivations. This is a based on a Python implementation that tries to replicate the main function of the hdm r-package. It was made by [Max Huppertz](https://maxhuppertz.github.io/code/). His library is this [repository](https://github.com/maxhuppertz/hdmpy). If not running on colab, download the repository and copy this folder to your site-packages folder. In my case, it is located here ***C:\\Python\\Python38\\Lib\\site-packages*** . It requires the multiprocess package ***pip install multiprocess***."
      ]
    },
    {
      "cell_type": "markdown",
      "metadata": {
        "id": "f2N1EUC7T_8S"
      },
      "source": [
        "Specifically, we use \"plug-in\" tuning with a theoretically valid choice of penalty $\\lambda = 2 \\cdot c \\hat{\\sigma} \\sqrt{n} \\Phi^{-1}(1-\\alpha/2p)$, where $c>1$ and $1-\\alpha$ is a confidence level, $\\Phi^{-1}$ denotes the quantile function, and $\\hat{\\sigma}$ is estimated in an iterative manner (see corresponding notes in book). Under homoskedasticity, this choice ensures that the Lasso predictor is well behaved, delivering good predictive performance under approximate sparsity. In practice, this formula will work well even in the absence of homoskedasticity, especially when the random variables $\\epsilon$ and $X$ in the regression equation decay quickly at the tails.\n",
        "\n",
        "In practice, many people choose to use cross-validation, which is perfectly fine for predictive tasks. However, when conducting inference, to make our analysis valid we will require cross-fitting in addition to cross-validation. As we have not yet discussed cross-fitting, we rely on this theoretically-driven penalty in order to allow for accurate inference in the upcoming notebooks."
      ]
    },
    {
      "cell_type": "code",
      "execution_count": null,
      "metadata": {
        "id": "EuulnMD7UQIB"
      },
      "outputs": [],
      "source": [
        "!git clone https://github.com/maxhuppertz/hdmpy.git\n",
        "!pip install multiprocess"
      ]
    },
    {
      "cell_type": "code",
      "execution_count": null,
      "metadata": {
        "id": "MAngMASGNK97"
      },
      "outputs": [],
      "source": [
        "# We wrap the package so that it has the familiar sklearn API\n",
        "import hdmpy\n",
        "\n",
        "\n",
        "class RLasso(BaseEstimator):\n",
        "\n",
        "    def __init__(self, *, post=True):\n",
        "        self.post = post\n",
        "\n",
        "    def fit(self, X, y):\n",
        "        self.rlasso_ = hdmpy.rlasso(X, y, post=self.post)\n",
        "        return self\n",
        "\n",
        "    def predict(self, X):\n",
        "        return X @ np.array(self.rlasso_.est['beta']).flatten() + self.rlasso_.est['intercept'].values"
      ]
    },
    {
      "cell_type": "code",
      "execution_count": null,
      "metadata": {
        "id": "Qa5DMdQWNK97"
      },
      "outputs": [],
      "source": [
        "cv = KFold(n_splits=5, shuffle=True, random_state=123)\n",
        "rsquares = cross_val_score(RLasso(), Zflex, y, scoring='r2', cv=cv, n_jobs=-1)\n",
        "print('Flexible model R^2 (RLasso): ', f'{np.mean(rsquares):.4f}')"
      ]
    },
    {
      "cell_type": "markdown",
      "metadata": {
        "id": "YDfzTw59NK98"
      },
      "source": [
        "Finally, we try the combination of a sparse and a dense coefficient using the LAVA method"
      ]
    },
    {
      "cell_type": "code",
      "execution_count": null,
      "metadata": {
        "id": "fI_DjDtvNK98"
      },
      "outputs": [],
      "source": [
        "# We construct an sklearn API estimator that implements the LAVA method\n",
        "\n",
        "class Lava(BaseEstimator):\n",
        "\n",
        "    def __init__(self, *, alpha2=1, iterations=3):\n",
        "        self.alpha2 = alpha2\n",
        "        self.iterations = iterations\n",
        "\n",
        "    def fit(self, X, y):\n",
        "        lasso = RLasso(post=False).fit(X, y)\n",
        "        ridge = Ridge(self.alpha2).fit(X, y - lasso.predict(X).flatten())\n",
        "\n",
        "        for _ in range(self.iterations - 1):\n",
        "            lasso = lasso.fit(X, y - ridge.predict(X))\n",
        "            ridge = ridge.fit(X, y - lasso.predict(X).flatten())\n",
        "\n",
        "        self.lasso_ = lasso\n",
        "        self.ridge_ = ridge\n",
        "        return self\n",
        "\n",
        "    def predict(self, X):\n",
        "        return self.lasso_.predict(X) + self.ridge_.predict(X)"
      ]
    },
    {
      "cell_type": "code",
      "execution_count": null,
      "metadata": {
        "id": "pU2NAg9WNK99"
      },
      "outputs": [],
      "source": [
        "cv = KFold(n_splits=5, shuffle=True, random_state=123)\n",
        "rsquares = cross_val_score(Lava(alpha2=20), Zflex, y, scoring='r2', cv=cv, n_jobs=-1)\n",
        "print('Flexible model R^2 (LAVA): ', f'{np.mean(rsquares):.4f}')"
      ]
    },
    {
      "cell_type": "markdown",
      "metadata": {
        "id": "1uKW4L69NK99"
      },
      "source": [
        "<!-- We find that for this dataset the low dimensional OLS was the best among all specifications. The high-dimensional approaches did not manage to increase predictive power. -->\n",
        "We find that for this dataset the low dimensional OLS is sufficient. The high-dimensional approaches did not manage to substantively increase predictive power."
      ]
    },
    {
      "cell_type": "markdown",
      "metadata": {
        "id": "BFKIU9ewUAzM"
      },
      "source": [
        "### Extra high-dimensional specification (extra flexible)\n",
        "\n",
        "We repeat the same procedure for the extra flexible model."
      ]
    },
    {
      "cell_type": "code",
      "execution_count": null,
      "metadata": {
        "id": "rdKJgr9AUgqI"
      },
      "outputs": [],
      "source": [
        "Zextra = patsy.dmatrix('0 + sex + (exp1+exp2+exp3+exp4+shs+hsg+scl+clg+C(occ2)+C(ind2)+mw+so+we)**2',\n",
        "                       Z, return_type='dataframe').values\n",
        "Zextra.shape"
      ]
    },
    {
      "cell_type": "code",
      "execution_count": null,
      "metadata": {
        "id": "jKbHAPXYUotO"
      },
      "outputs": [],
      "source": [
        "X_train, X_test, y_train, y_test = train_test_split(Zextra, y, test_size=0.25, random_state=123)\n",
        "lr_extra = LinearRegression().fit(X_train, y_train)\n",
        "print(f'{r2_score(y_test, lr_extra.predict(X_test)):.4f}')"
      ]
    },
    {
      "cell_type": "code",
      "execution_count": null,
      "metadata": {
        "id": "Gfa5uUiiUowQ"
      },
      "outputs": [],
      "source": [
        "cv = KFold(n_splits=5, shuffle=True, random_state=123)\n",
        "rsquares = cross_val_score(StatsModelsOLS(), Zextra, y, scoring='r2', cv=cv, n_jobs=-1)\n",
        "print(f'{np.mean(rsquares):.4f}')"
      ]
    },
    {
      "cell_type": "markdown",
      "metadata": {
        "id": "k_rRXS1FYG_R"
      },
      "source": [
        "#### Penalized regressions (extra flexible model)\n",
        "\n",
        "Now let's repeat our penalized regression analysis for the extra flexible model. Note this block takes a while!"
      ]
    },
    {
      "cell_type": "code",
      "execution_count": null,
      "metadata": {
        "id": "oWgvAY1RYJXV"
      },
      "outputs": [],
      "source": [
        "Zextra = StandardScaler().fit_transform(Zextra)"
      ]
    },
    {
      "cell_type": "code",
      "execution_count": null,
      "metadata": {
        "id": "YEvTN7kpYMKD"
      },
      "outputs": [],
      "source": [
        "cv = KFold(n_splits=5, shuffle=True, random_state=123)\n",
        "rsquares = cross_val_score(LassoCV(cv=cv), Zextra, y, scoring='r2', cv=cv, n_jobs=-1)\n",
        "print('Extra flexible model R^2 (Lasso): ', f'{np.mean(rsquares):.4f}')\n",
        "cv = KFold(n_splits=5, shuffle=True, random_state=123)\n",
        "rsquares = cross_val_score(RidgeCV(cv=cv), Zextra, y, scoring='r2', cv=cv, n_jobs=-1)\n",
        "print('Extra flexible model R^2 (Ridge): ', f'{np.mean(rsquares):.4f}')\n",
        "cv = KFold(n_splits=5, shuffle=True, random_state=123)\n",
        "rsquares = cross_val_score(ElasticNetCV(cv=cv), Zextra, y, scoring='r2', cv=cv, n_jobs=-1)\n",
        "print('Extra flexible model R^2 (Elastic Net):', f'{np.mean(rsquares):.4f}')\n",
        "cv = KFold(n_splits=5, shuffle=True, random_state=123)\n",
        "rsquares = cross_val_score(RLasso(), Zflex, y, scoring='r2', cv=cv, n_jobs=-1)\n",
        "print('Extra flexible model R^2 (RLasso):', f'{np.mean(rsquares):.4f}')\n",
        "cv = KFold(n_splits=5, shuffle=True, random_state=123)\n",
        "rsquares = cross_val_score(Lava(alpha2=20), Zflex, y, scoring='r2', cv=cv, n_jobs=-1)\n",
        "print('Extra flexible model R^2 (LAVA):', f'{np.mean(rsquares):.4f}')"
      ]
    },
    {
      "cell_type": "markdown",
      "metadata": {
        "id": "pCyYcqqlxMz3"
      },
      "source": [
        "As shown above, the overfitting effect is mitigated with the penalized regression model."
      ]
    }
  ],
  "metadata": {
    "colab": {
      "provenance": []
    },
    "kernelspec": {
      "display_name": "Python 3 (ipykernel)",
      "language": "python",
      "name": "python3"
    },
    "language_info": {
      "codemirror_mode": {
        "name": "ipython",
        "version": 3
      },
      "file_extension": ".py",
      "mimetype": "text/x-python",
      "name": "python",
      "nbconvert_exporter": "python",
      "pygments_lexer": "ipython3",
      "version": "3.11.5"
    }
  },
  "nbformat": 4,
  "nbformat_minor": 0
}